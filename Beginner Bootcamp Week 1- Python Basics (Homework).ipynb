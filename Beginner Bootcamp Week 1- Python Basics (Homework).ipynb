{
 "cells": [
  {
   "cell_type": "markdown",
   "metadata": {},
   "source": [
    "# Chapter 2.1 Comments and Basic Data Types"
   ]
  },
  {
   "cell_type": "code",
   "execution_count": 1,
   "metadata": {},
   "outputs": [
    {
     "name": "stdout",
     "output_type": "stream",
     "text": [
      "Hello\n"
     ]
    }
   ],
   "source": [
    "# Comments and Basic Data Types\n",
    "# this is a comment\n",
    "print(\"Hello\")  # this is also a comment"
   ]
  },
  {
   "cell_type": "code",
   "execution_count": 1,
   "metadata": {},
   "outputs": [
    {
     "name": "stdout",
     "output_type": "stream",
     "text": [
      "Hello\n"
     ]
    }
   ],
   "source": [
    "\"\"\"\n",
    "    This is a multi-line comment\n",
    "\"\"\"\n",
    "print(\"Hello\")  # this is also a comment"
   ]
  },
  {
   "cell_type": "code",
   "execution_count": 3,
   "metadata": {},
   "outputs": [
    {
     "name": "stdout",
     "output_type": "stream",
     "text": [
      "2\n",
      "10\n"
     ]
    }
   ],
   "source": [
    "# the following are all integers\n",
    "print(2)\n",
    "print(10)"
   ]
  },
  {
   "cell_type": "code",
   "execution_count": 4,
   "metadata": {},
   "outputs": [
    {
     "name": "stdout",
     "output_type": "stream",
     "text": [
      "10.953\n",
      "8.0\n"
     ]
    }
   ],
   "source": [
    "# the following are all floats\n",
    "print(10.953)\n",
    "print(8.0)  # even this number is a float"
   ]
  },
  {
   "cell_type": "code",
   "execution_count": 5,
   "metadata": {},
   "outputs": [
    {
     "name": "stdout",
     "output_type": "stream",
     "text": [
      "True\n",
      "False\n"
     ]
    }
   ],
   "source": [
    "# the following are booleans\n",
    "print(True)\n",
    "print(False)"
   ]
  },
  {
   "cell_type": "code",
   "execution_count": 6,
   "metadata": {},
   "outputs": [
    {
     "name": "stdout",
     "output_type": "stream",
     "text": [
      "\n",
      "There's a snake in my boot!\n",
      "True\n"
     ]
    }
   ],
   "source": [
    "# the following are strings\n",
    "print(\"\")\n",
    "print(\"There's a snake in my boot!\")\n",
    "print('True')"
   ]
  },
  {
   "cell_type": "code",
   "execution_count": 14,
   "metadata": {},
   "outputs": [
    {
     "name": "stdout",
     "output_type": "stream",
     "text": [
      "xing\n"
     ]
    },
    {
     "data": {
      "text/plain": [
       "int"
      ]
     },
     "execution_count": 14,
     "metadata": {},
     "output_type": "execute_result"
    }
   ],
   "source": [
    "# monday exercises\n",
    "# output: print out your name\n",
    "print(\"xing\")\n",
    "# type checking: try checking the type of value by using the type() method. \n",
    "# this will always print out what kind of data you're checking.\n",
    "# this is useful to check data types when you're unsure.\n",
    "# as an example:\n",
    "type(5)   # will output <class 'int'>\n"
   ]
  },
  {
   "cell_type": "markdown",
   "metadata": {},
   "source": [
    "# Chapter 2.2 Variables"
   ]
  },
  {
   "cell_type": "code",
   "execution_count": 12,
   "metadata": {},
   "outputs": [
    {
     "name": "stdout",
     "output_type": "stream",
     "text": [
      "5 8.4\n"
     ]
    }
   ],
   "source": [
    "num1 = 5            # storing an integer into a variable\n",
    "num2 = 8.4          # storing a float into a variable\n",
    "print(num1, num2)   # you can print multiple items using commas"
   ]
  },
  {
   "cell_type": "code",
   "execution_count": 13,
   "metadata": {},
   "outputs": [
    {
     "name": "stdout",
     "output_type": "stream",
     "text": [
      "True\n"
     ]
    }
   ],
   "source": [
    "# storing a boolean into a variable\n",
    "switch = True\n",
    "print(switch)"
   ]
  },
  {
   "cell_type": "code",
   "execution_count": 15,
   "metadata": {},
   "outputs": [
    {
     "name": "stdout",
     "output_type": "stream",
     "text": [
      "John Smith 9\n"
     ]
    }
   ],
   "source": [
    "# storing strongs into a variable\n",
    "name = 'John Smith'\n",
    "fav_number = '9'\n",
    "print(name, fav_number) # will print 9 next to the name"
   ]
  },
  {
   "cell_type": "code",
   "execution_count": 21,
   "metadata": {},
   "outputs": [
    {
     "name": "stdout",
     "output_type": "stream",
     "text": [
      "13.4\n"
     ]
    }
   ],
   "source": [
    "# using two variables to create another variable\n",
    "result = num1 + num2\n",
    "print(result)"
   ]
  },
  {
   "cell_type": "code",
   "execution_count": 22,
   "metadata": {},
   "outputs": [
    {
     "name": "stdout",
     "output_type": "stream",
     "text": [
      "14.4\n",
      "72.0\n"
     ]
    }
   ],
   "source": [
    "# adding, deleting, multiplying, dividing from a variable\n",
    "result += 1     # same as saying result = result + 1\n",
    "print(result)\n",
    "result *= num1  # same as saying result = result * num1\n",
    "print(result)"
   ]
  },
  {
   "cell_type": "code",
   "execution_count": 23,
   "metadata": {},
   "outputs": [
    {
     "name": "stdout",
     "output_type": "stream",
     "text": [
      "John\n",
      "Sam\n"
     ]
    }
   ],
   "source": [
    "# defining a variable and overwriting it\n",
    "name = 'John'\n",
    "print(name)\n",
    "name = 'Sam'\n",
    "print(name)"
   ]
  },
  {
   "cell_type": "code",
   "execution_count": 24,
   "metadata": {},
   "outputs": [
    {
     "name": "stdout",
     "output_type": "stream",
     "text": [
      "13\n",
      "3354.0764\n"
     ]
    }
   ],
   "source": [
    "# tuesday exercises\n",
    "# variable output: store the value 3 in a variable called \"x\" and the value 10 in a variable called \"y\".\n",
    "# save the result of x*y into a separate variable called \"result\".\n",
    "# finally, output the information so it shows like the following:\n",
    "# >>> 3 + 10 = 13\n",
    "x = 3\n",
    "y = 10\n",
    "result = x + y\n",
    "print(result)\n",
    "# area calculation: calculate the area of a 245.54\" x 13.66\" rectangle. Print out the result.\n",
    "# hint: area is width multiplied by height.\n",
    "width = 245.54\n",
    "height = 13.66\n",
    "area = width * height\n",
    "print(area)\n"
   ]
  },
  {
   "cell_type": "markdown",
   "metadata": {},
   "source": [
    "# Chapter 2.3 Working with Strings"
   ]
  },
  {
   "cell_type": "code",
   "execution_count": 25,
   "metadata": {},
   "outputs": [
    {
     "name": "stdout",
     "output_type": "stream",
     "text": [
      "John Smith\n"
     ]
    }
   ],
   "source": [
    "# using the addition operator without variables\n",
    "name = \"John\" + \" \" + \"Smith\"\n",
    "print(name)"
   ]
  },
  {
   "cell_type": "code",
   "execution_count": 26,
   "metadata": {},
   "outputs": [
    {
     "name": "stdout",
     "output_type": "stream",
     "text": [
      "John Smith\n"
     ]
    }
   ],
   "source": [
    "# using the addition operator with variables\n",
    "first_name = \"John\"\n",
    "last_name = \"Smith\"\n",
    "full_name = first_name + \" \" + last_name\n",
    "print(full_name)"
   ]
  },
  {
   "cell_type": "code",
   "execution_count": 28,
   "metadata": {},
   "outputs": [
    {
     "name": "stdout",
     "output_type": "stream",
     "text": [
      "Hello John\n",
      "Hello John, you are 28 years old!\n"
     ]
    }
   ],
   "source": [
    "# injecting variables using the format method\n",
    "name = \"John\"\n",
    "print(\"Hello {}\".format(name) )\n",
    "print(\"Hello {}, you are {} years old!\".format(name, 28) )"
   ]
  },
  {
   "cell_type": "code",
   "execution_count": 29,
   "metadata": {},
   "outputs": [
    {
     "name": "stdout",
     "output_type": "stream",
     "text": [
      "Hello John\n"
     ]
    }
   ],
   "source": [
    "# using the new f strings\n",
    "name = \"John\"\n",
    "print (f\"Hello {name}\")"
   ]
  },
  {
   "cell_type": "code",
   "execution_count": 30,
   "metadata": {},
   "outputs": [
    {
     "name": "stdout",
     "output_type": "stream",
     "text": [
      "Hello, John\n"
     ]
    }
   ],
   "source": [
    "# one major difference between versions 2 & 3\n",
    "name = 'John'\n",
    "print('Hello, %s' % name)"
   ]
  },
  {
   "cell_type": "code",
   "execution_count": 31,
   "metadata": {},
   "outputs": [
    {
     "name": "stdout",
     "output_type": "stream",
     "text": [
      "Hello, John Smith\n"
     ]
    }
   ],
   "source": [
    "# python 2 multiple variable formatting\n",
    "first_name = \"John\"\n",
    "last_name = \"Smith\"\n",
    "print(\"Hello, %s %s\" % (first_name, last_name))\n",
    "        # surround the variables in parenthesis"
   ]
  },
  {
   "cell_type": "code",
   "execution_count": 32,
   "metadata": {},
   "outputs": [
    {
     "name": "stdout",
     "output_type": "stream",
     "text": [
      "H\n",
      "e\n",
      "o\n"
     ]
    }
   ],
   "source": [
    "# using indexes to print each element\n",
    "word = \"Hello\"\n",
    "print(word[0])  # will output 'H'\n",
    "print(word[1])  # will output 'e'\n",
    "print(word[-1]) # will output 'o'"
   ]
  },
  {
   "cell_type": "code",
   "execution_count": 33,
   "metadata": {},
   "outputs": [
    {
     "name": "stdout",
     "output_type": "stream",
     "text": [
      "He\n"
     ]
    }
   ],
   "source": [
    "print(word[0:2])    # will output 'He'"
   ]
  },
  {
   "cell_type": "code",
   "execution_count": 34,
   "metadata": {},
   "outputs": [
    {
     "name": "stdout",
     "output_type": "stream",
     "text": [
      "Hlo\n"
     ]
    }
   ],
   "source": [
    "print(word[0:5:2])  # will output 'Hlo'"
   ]
  },
  {
   "cell_type": "code",
   "execution_count": 37,
   "metadata": {},
   "outputs": [
    {
     "name": "stdout",
     "output_type": "stream",
     "text": [
      "23 4.5 True John\n",
      "Xing's favorite sports is badminton.\n",
      "Xing is working on python programming!\n"
     ]
    }
   ],
   "source": [
    "# wednesday exercises\n",
    "# variable injection: create a print statement that injects an integer, float, boolean, and string all into one line.\n",
    "# the output should look like \"23 4.5 False John\"\n",
    "integer = \"23\"\n",
    "float = \"4.5\"\n",
    "boolean = \"True\"\n",
    "string = \"John\"\n",
    "statement = (integer + \" \" + float + \" \" + boolean + \" \" + string)\n",
    "print(statement)\n",
    "# fill in the blanks: using the format method, fill in the following blanks by assigning your name nad favourtie activities into variables:\n",
    "# \"{}'s favorite sports is {}.\"\n",
    "# \"{} is working on {} programming!\"\n",
    "name = \"Xing\"\n",
    "sport = \"badminton\"\n",
    "program = \"python\"\n",
    "print (f\"{name}'s favorite sports is {sport}.\")\n",
    "print (f\"{name} is working on {program} programming!\")\n"
   ]
  },
  {
   "cell_type": "markdown",
   "metadata": {},
   "source": [
    "# Chapter 2.4 String Manipulation"
   ]
  },
  {
   "cell_type": "code",
   "execution_count": 38,
   "metadata": {},
   "outputs": [
    {
     "name": "stdout",
     "output_type": "stream",
     "text": [
      "John Smith\n"
     ]
    }
   ],
   "source": [
    "# using the title method to capitalise a string\n",
    "name = \"john smith\"\n",
    "print(name.title())"
   ]
  },
  {
   "cell_type": "code",
   "execution_count": 39,
   "metadata": {},
   "outputs": [
    {
     "name": "stdout",
     "output_type": "stream",
     "text": [
      "Hello there.\n"
     ]
    }
   ],
   "source": [
    "# replacing an exclamation point with a period\n",
    "words = \"Hello there!\"\n",
    "print(words.replace(\"!\", \".\"))"
   ]
  },
  {
   "cell_type": "code",
   "execution_count": 40,
   "metadata": {},
   "outputs": [
    {
     "name": "stdout",
     "output_type": "stream",
     "text": [
      "5\n"
     ]
    }
   ],
   "source": [
    "# finding the starting index of our searched term\n",
    "s = \"Look over that way\"\n",
    "print(s.find(\"over\"))"
   ]
  },
  {
   "cell_type": "code",
   "execution_count": 41,
   "metadata": {},
   "outputs": [
    {
     "name": "stdout",
     "output_type": "stream",
     "text": [
      "john\n"
     ]
    }
   ],
   "source": [
    "# removing white space with strip\n",
    "name = \" john \"\n",
    "print(name.strip())"
   ]
  },
  {
   "cell_type": "code",
   "execution_count": 45,
   "metadata": {},
   "outputs": [
    {
     "name": "stdout",
     "output_type": "stream",
     "text": [
      "UPPERCASE\n",
      "John Smith\n"
     ]
    }
   ],
   "source": [
    "# thursday exercises\n",
    "# uppercasing: try manipulating the string \"uppercase\" so it prints out as all uppercase letters.\n",
    "# you'll need to look up a new method.\n",
    "text = \"uppercase\"\n",
    "print(text.upper())\n",
    "# strip symbols: strip all the dollar signs from the left side of this string \"$$John Smith\".\n",
    "# try it will .lstrip() and .strip.\n",
    "# to see a description on how to use the strip method further, try using the help function in python by typing the following:\n",
    "# >>> help(\" \".strip)\n",
    "name = \"$$John Smith\"\n",
    "print(name.lstrip(\"$\"))"
   ]
  },
  {
   "cell_type": "markdown",
   "metadata": {},
   "source": [
    "# Chapter 2.5 Creating a Receipt Printing Program"
   ]
  },
  {
   "cell_type": "code",
   "execution_count": 53,
   "metadata": {},
   "outputs": [
    {
     "name": "stdout",
     "output_type": "stream",
     "text": [
      "**************************************************\n",
      "\t\tCoding Temple, Inc.\n",
      "\t\t283 Franklin St.\n",
      "\t\tBoston, MA\n",
      "==================================================\n",
      "\tProduct Name\tProduct Price\n",
      "\tBooks\t\t$49.95\n",
      "\tComputer\t$579.99\n",
      "\tMonitor\t\t$124.89\n",
      "==================================================\n",
      "\t\t\tTotal\n",
      "\t\t\t$754.83\n",
      "==================================================\n",
      "\n",
      "\tThanks for shopping with us today!\n",
      "\n",
      "**************************************************\n"
     ]
    }
   ],
   "source": [
    "# create a product and price for three items\n",
    "p1_name, p1_price = \"Books\", 49.95\n",
    "p2_name, p2_price = \"Computer\", 579.99\n",
    "p3_name, p3_price = \"Monitor\", 124.89\n",
    "# create a company name and information\n",
    "company_name = \"coding temple, inc.\"\n",
    "company_address = \"283 Franklin St.\"\n",
    "company_city = \"Boston, MA\"\n",
    "# declare ending message\n",
    "message = \"Thanks for shopping with us today!\"\n",
    "# create a top border\n",
    "print(\"*\" * 50)\n",
    "# print company information first, using format\n",
    "print(\"\\t\\t{}\".format(company_name.title()))\n",
    "print(\"\\t\\t{}\".format(company_address))\n",
    "print(\"\\t\\t{}\".format(company_city))\n",
    "# print a line between sections\n",
    "print(\"=\" * 50)\n",
    "# print out header for section of items\n",
    "print(\"\\tProduct Name\\tProduct Price\")\n",
    "# create a print statement for each product\n",
    "print(\"\\t{}\\t\\t${}\".format(p1_name.title(), p1_price))\n",
    "print(\"\\t{}\\t${}\".format(p2_name.title(), p2_price))\n",
    "print(\"\\t{}\\t\\t${}\".format(p3_name.title(), p3_price))\n",
    "# print a line between sections\n",
    "print('=' * 50)\n",
    "# print out header for section of total\n",
    "print(\"\\t\\t\\tTotal\")\n",
    "# calculate total price and print out\n",
    "total = p1_price + p2_price + p3_price\n",
    "print(\"\\t\\t\\t${}\".format(total))\n",
    "# print a line between sections\n",
    "print( \"=\" * 50)\n",
    "# output thank you message\n",
    "print(\"\\n\\t{}\\n\".format(message))\n",
    "# create a bottom border\n",
    "print (\"*\" * 50)"
   ]
  },
  {
   "cell_type": "markdown",
   "metadata": {},
   "source": [
    "# Weekly Challenges"
   ]
  },
  {
   "cell_type": "code",
   "execution_count": 107,
   "metadata": {},
   "outputs": [
    {
     "name": "stdout",
     "output_type": "stream",
     "text": [
      "**************************************************\n",
      "*              Coding Temple, Inc.               *\n",
      "*                283 Franklin St.                *\n",
      "*                   Boston, MA                   *\n",
      "* ============================================== *\n",
      "*       Product Name    Product Price            *\n",
      "*       Books           $49.95                   *\n",
      "*       Computer        $579.99                  *\n",
      "*       Monitor         $124.89                  *\n",
      "* ============================================== *\n",
      "*                       Total                    *\n",
      "*                       $754.83                  *\n",
      "* ============================================== *\n",
      "*                                                *\n",
      "*       Thanks for shopping with us today!       *\n",
      "*                                                *\n",
      "**************************************************\n",
      "I love bananas\n",
      "True\n",
      "True\n",
      "pYthON iS fUn\n",
      "olleH\n"
     ]
    }
   ],
   "source": [
    "# side borders\n",
    "# in the friday project, we ended up creating borders above and below the information printed out.\n",
    "# try adding a star border on the sides as well now.\n",
    "# create a product and price for three items\n",
    "p1_name, p1_price = \"Books\", 49.95\n",
    "p2_name, p2_price = \"Computer\", 579.99\n",
    "p3_name, p3_price = \"Monitor\", 124.89\n",
    "# create a company name and information\n",
    "company_name = \"coding temple, inc.\"\n",
    "company_address = \"283 Franklin St.\"\n",
    "company_city = \"Boston, MA\"\n",
    "# declare ending message\n",
    "message = \"Thanks for shopping with us today!\"\n",
    "# create a top border\n",
    "print(\"*\" * 50)\n",
    "# print company information first, using format\n",
    "print(\"*{:^48}*\".format(company_name.title()))\n",
    "print(\"*{:^48}*\".format(company_address))\n",
    "print(\"*{:^48}*\".format(company_city))\n",
    "# print a line between sections\n",
    "print(\"* \" + \"=\" * 46 + \" *\")\n",
    "# print out header for section of items\n",
    "print(\"*{:^5}{:^16}{:^17}          *\".format(\"\", \"Product Name\", \"Product Price\"))\n",
    "# create a print statement for each product\n",
    "print(\"*{:^7}{:<16}${:<17.2f}       *\".format(\"\", p1_name.title(), p1_price))\n",
    "print(\"*{:^7}{:<16}${:<17.2f}       *\".format(\"\", p2_name.title(), p2_price))\n",
    "print(\"*{:^7}{:<16}${:<17.2f}       *\".format(\"\", p3_name.title(), p3_price))\n",
    "# print a line between sections\n",
    "print(\"* \" + \"=\" * 46 + \" *\")\n",
    "# print out header for section of total\n",
    "print(\"*{:^23}{:<16}{:<9}*\".format(\"\", \"Total\", \"\"))\n",
    "# calculate total price and print out\n",
    "total = p1_price + p2_price + p3_price\n",
    "print(\"*{:^7}{:<16}${:<17.2f}       *\".format(\"\", \"\", total))\n",
    "# print a line between sections\n",
    "print(\"* \" + \"=\" * 46 + \" *\")\n",
    "# output thank you message\n",
    "print(\"*{:^48}*\".format(\"\"))\n",
    "print(\"*{:^48}*\".format(message))\n",
    "print(\"*{:^48}*\".format(\"\"))\n",
    "# create a bottom border\n",
    "print (\"*\" * 50)\n",
    "# researching methods\n",
    "# we've gone over a few of the string manipulation methods that are widely used; however there are many more; try looking up some and implementing them.\n",
    "# .replace() - replace parts of a string\n",
    "text = \"I love apples\"\n",
    "new_text = text.replace(\"apples\", \"bananas\")\n",
    "print(new_text) # Output: I love bananas\n",
    "# .startswith() and .endswith() - check how a string begins or ends\n",
    "greeting = \"Hello, world!\"\n",
    "print(greeting.startswith(\"Hello\")) # True\n",
    "print(greeting.endswith(\"!\"))       # True\n",
    "# swapcase() - swap uppercase to lowercase and vice versa\n",
    "text = \"PyTHon Is FuN\"\n",
    "print(text.swapcase())  #\"pYthON is fUn\"\n",
    "# reverse\n",
    "# declare a variable equal to \"Hello\".\n",
    "# reverse the string using slicing.\n",
    "# try looking it up if you struggle.\n",
    "text = \"Hello\"\n",
    "reversed_text = text[::-1]\n",
    "print(reversed_text)"
   ]
  }
 ],
 "metadata": {
  "kernelspec": {
   "display_name": "bootcamp",
   "language": "python",
   "name": "python3"
  },
  "language_info": {
   "codemirror_mode": {
    "name": "ipython",
    "version": 3
   },
   "file_extension": ".py",
   "mimetype": "text/x-python",
   "name": "python",
   "nbconvert_exporter": "python",
   "pygments_lexer": "ipython3",
   "version": "3.10.16"
  }
 },
 "nbformat": 4,
 "nbformat_minor": 2
}
