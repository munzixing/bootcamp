{
 "cells": [
  {
   "cell_type": "markdown",
   "id": "e71eb568",
   "metadata": {},
   "source": [
    "# Chapter 5.1 Creating and Calling Functions"
   ]
  },
  {
   "cell_type": "code",
   "execution_count": 1,
   "id": "e8192cfd",
   "metadata": {},
   "outputs": [
    {
     "name": "stdout",
     "output_type": "stream",
     "text": [
      "Name: John Smith\n",
      "Age: 45\n",
      "Name: John Smith\n",
      "Age: 45\n"
     ]
    }
   ],
   "source": [
    "# writing your first function\n",
    "def printInfo():    # defines what the function does when called\n",
    "    print(\"Name: John Smith\")\n",
    "    print(\"Age: 45\")\n",
    "printInfo()         # calls the function to run\n",
    "printInfo()         # calls the function again"
   ]
  },
  {
   "cell_type": "code",
   "execution_count": 2,
   "id": "04d68594",
   "metadata": {},
   "outputs": [
    {
     "name": "stdout",
     "output_type": "stream",
     "text": [
      "15\n"
     ]
    }
   ],
   "source": [
    "# performing a calculation in a function\n",
    "def calc():\n",
    "    x, y = 5, 10\n",
    "    print(x +y)\n",
    "calc()  # will run the block of code within calc and output 15"
   ]
  },
  {
   "cell_type": "code",
   "execution_count": 3,
   "id": "7168c6b1",
   "metadata": {},
   "outputs": [
    {
     "name": "stdout",
     "output_type": "stream",
     "text": [
      "Xing\n",
      "Pepperoni\n",
      "Chicken\n",
      "Cheese\n",
      "Tomato\n",
      "Pepperoni\n",
      "Chicken\n",
      "Cheese\n",
      "Tomato\n",
      "Pepperoni\n",
      "Chicken\n",
      "Cheese\n",
      "Tomato\n"
     ]
    }
   ],
   "source": [
    "# monday exercises\n",
    "# print name\n",
    "# define a function called myName\n",
    "# and have it print out your name when called\n",
    "def myName():\n",
    "    print(\"Xing\")   # replace your preferred name\n",
    "myName()\n",
    "# pizza toppings\n",
    "# define a function that prints out all your favourite pizza toppings called pizzaToppings\n",
    "# call the function three times\n",
    "def pizzaToppings():\n",
    "    print(\"Pepperoni\")\n",
    "    print(\"Chicken\")\n",
    "    print(\"Cheese\")\n",
    "    print(\"Tomato\")\n",
    "pizzaToppings()\n",
    "pizzaToppings()\n",
    "pizzaToppings()"
   ]
  },
  {
   "cell_type": "markdown",
   "id": "1da5e038",
   "metadata": {},
   "source": [
    "# Chapter 5.2 Parameters"
   ]
  },
  {
   "cell_type": "code",
   "execution_count": 4,
   "id": "bef9cfb1",
   "metadata": {},
   "outputs": [
    {
     "name": "stdout",
     "output_type": "stream",
     "text": [
      "Your name is: John Smith\n",
      "Your name is: Amanda\n"
     ]
    }
   ],
   "source": [
    "# passing a single parameter into a function\n",
    "def printName(full_name):\n",
    "    print(\"Your name is: {}\".format(full_name))\n",
    "printName(\"John Smith\")\n",
    "printName(\"Amanda\")"
   ]
  },
  {
   "cell_type": "code",
   "execution_count": 6,
   "id": "1b80a929",
   "metadata": {},
   "outputs": [
    {
     "name": "stdout",
     "output_type": "stream",
     "text": [
      "5 + 8 = 13\n",
      "3.5 + 5.5 = 9.0\n"
     ]
    }
   ],
   "source": [
    "# passing multiple parameters into a function\n",
    "def addNums(num1, num2):\n",
    "    result = num1 + num2\n",
    "    print(\"{} + {} = {}\".format(num1, num2, result))\n",
    "addNums(5, 8)       # will output 13\n",
    "addNums(3.5, 5.5)   # will output 9.0"
   ]
  },
  {
   "cell_type": "code",
   "execution_count": null,
   "id": "7e81d390",
   "metadata": {},
   "outputs": [
    {
     "name": "stdout",
     "output_type": "stream",
     "text": [
      "4\n",
      "16\n",
      "25\n",
      "100\n",
      "1\n",
      "9\n",
      "36\n"
     ]
    }
   ],
   "source": [
    "# using a function to square all information\n",
    "numbers1 = [2, 4, 5, 10]\n",
    "numbers2 = [1, 3, 6]\n",
    "def squares(nums):\n",
    "    for num in nums:\n",
    "        print(num ** 2)\n",
    "squares(numbers1)\n",
    "squares(numbers2)"
   ]
  },
  {
   "cell_type": "code",
   "execution_count": 7,
   "id": "995d19ef",
   "metadata": {},
   "outputs": [
    {
     "name": "stdout",
     "output_type": "stream",
     "text": [
      "Area: 12.56\n"
     ]
    }
   ],
   "source": [
    "# setting default parameter values\n",
    "def calcArea(r, pi = 3.14):\n",
    "    area = pi * (r ** 2)\n",
    "    print(\"Area: {}\".format(area))\n",
    "calcArea(2) # assuming radius is the value of 2"
   ]
  },
  {
   "cell_type": "code",
   "execution_count": 8,
   "id": "9d67e6c5",
   "metadata": {},
   "outputs": [
    {
     "name": "stdout",
     "output_type": "stream",
     "text": [
      "John Smith\n",
      "John Paul Smith\n"
     ]
    }
   ],
   "source": [
    "# setting default parameter values\n",
    "def printName(first, last, middle = \"\"):\n",
    "    if middle:\n",
    "        print(\"{} {} {}\".format(first, middle, last))\n",
    "    else:\n",
    "        print(\"{} {}\".format(first, last))\n",
    "printName(\"John\", \"Smith\")\n",
    "printName(\"John\", \"Smith\", \"Paul\")  # will output with middle name"
   ]
  },
  {
   "cell_type": "code",
   "execution_count": 10,
   "id": "fba77018",
   "metadata": {},
   "outputs": [
    {
     "name": "stdout",
     "output_type": "stream",
     "text": [
      "2.5\n",
      "5\n"
     ]
    }
   ],
   "source": [
    "# explicitly assigning values to parameters by referencing the name\n",
    "def addNums(num1, num2):\n",
    "    print(num2)\n",
    "    print(num1)\n",
    "addNums(5, num2 = 2.5)"
   ]
  },
  {
   "cell_type": "code",
   "execution_count": 11,
   "id": "581bea5f",
   "metadata": {},
   "outputs": [
    {
     "name": "stdout",
     "output_type": "stream",
     "text": [
      "<class 'tuple'>\n",
      "5\n",
      "True\n",
      "Jess\n"
     ]
    }
   ],
   "source": [
    "# using args parameter to take in a tuple of arbitrary values\n",
    "def outputData(names, *args):\n",
    "    print(type(args))\n",
    "    for arg in args:\n",
    "        print(arg)\n",
    "outputData(\"John Smith\", \"5\", True, \"Jess\")"
   ]
  },
  {
   "cell_type": "code",
   "execution_count": 12,
   "id": "973161bd",
   "metadata": {},
   "outputs": [
    {
     "name": "stdout",
     "output_type": "stream",
     "text": [
      "<class 'dict'>\n",
      "John Smith\n",
      "5\n"
     ]
    }
   ],
   "source": [
    "# using kwargs parameter to take in a dictionary of arbitrary values\n",
    "def outputData(**kwargs):\n",
    "    print(type(kwargs))\n",
    "    print(kwargs[\"name\"])\n",
    "    print(kwargs[\"num\"])\n",
    "outputData(name = \"John Smith\", num = 5, b = True)"
   ]
  },
  {
   "cell_type": "code",
   "execution_count": 14,
   "id": "e2dbf080",
   "metadata": {},
   "outputs": [
    {
     "name": "stdout",
     "output_type": "stream",
     "text": [
      "False\n",
      "No name passed in\n",
      "Full name: Xing \n",
      "Full name: Xing Mun\n"
     ]
    }
   ],
   "source": [
    "# user input\n",
    "# ask the user to input a word\n",
    "# and pass that word into a function that checks if the word starts with an uppercase\n",
    "# if it does output \"true\"\n",
    "# otherwise \"false\"\n",
    "def checkUppercase(word):\n",
    "    if word[0].isupper():\n",
    "        print(\"True\")\n",
    "    else:\n",
    "        print(\"False\")\n",
    "user_input = input(\"Enter a word: \")\n",
    "checkUppercase(user_input)\n",
    "# no name\n",
    "# define a function that takes in two arguments\n",
    "# first_name and last_name\n",
    "# and makes both optional\n",
    "# if no values are passed into the parameters\n",
    "# it should output \"no name passed in\"\n",
    "# otherwise\n",
    "# it should print out the name\n",
    "def printFullName(first_name = \"\", last_name = \"\"):\n",
    "    if first_name == \"\" and last_name == \"\":\n",
    "        print(\"No name passed in\")\n",
    "    else:\n",
    "        print(\"Full name: {} {}\".format(first_name, last_name))\n",
    "printFullName()                 # no name passed in\n",
    "printFullName(\"Xing\")           # xing\n",
    "printFullName(\"Xing\", \"Mun\")    # xing mun"
   ]
  },
  {
   "cell_type": "markdown",
   "id": "1ba0cca4",
   "metadata": {},
   "source": [
    "# Chapter 5.3 Return Statement"
   ]
  },
  {
   "cell_type": "code",
   "execution_count": 15,
   "id": "4de54788",
   "metadata": {},
   "outputs": [
    {
     "name": "stdout",
     "output_type": "stream",
     "text": [
      "10.0\n",
      "20\n"
     ]
    }
   ],
   "source": [
    "# using return keyword to return the sum of two numbers\n",
    "def addNums(num1,num2):\n",
    "    return num1 + num2\n",
    "num = addNums(5.5, 4.5) # saves returned value into num\n",
    "print(num)\n",
    "print(addNums(10, 10))  # doesn't save returned value"
   ]
  },
  {
   "cell_type": "code",
   "execution_count": 17,
   "id": "35f05203",
   "metadata": {},
   "outputs": [
    {
     "name": "stdout",
     "output_type": "stream",
     "text": [
      "True\n"
     ]
    }
   ],
   "source": [
    "# shorthand syntax using a ternary operator\n",
    "def searchList(aList, el):\n",
    "    return True if el in aList else False\n",
    "result = searchList([\"one\", 2, \"three\"], 2) # result = True\n",
    "print(result)"
   ]
  },
  {
   "cell_type": "code",
   "execution_count": 18,
   "id": "444e82d9",
   "metadata": {},
   "outputs": [
    {
     "name": "stdout",
     "output_type": "stream",
     "text": [
      "Xing Mun\n",
      "You entered:  hi\n"
     ]
    }
   ],
   "source": [
    "# full name\n",
    "# create a function that takes in a first and last name and returns the two names joined together\n",
    "def getFullName(first, last):\n",
    "    return first + \" \" + last\n",
    "full_name = getFullName(\"Xing\", \"Mun\")\n",
    "print(full_name)\n",
    "# user input\n",
    "# within a function\n",
    "# ask for user input\n",
    "# have this function return that input to be stored in a variable outside of the function\n",
    "# then print out the input\n",
    "def askForInput():\n",
    "    user_input = input(\"Enter something: \")\n",
    "    return user_input\n",
    "response = askForInput()\n",
    "print(\"You entered: \", response)"
   ]
  },
  {
   "cell_type": "markdown",
   "id": "b54fba27",
   "metadata": {},
   "source": [
    "# Chapter 5.4 Scope"
   ]
  },
  {
   "cell_type": "code",
   "execution_count": null,
   "id": "fb293583",
   "metadata": {},
   "outputs": [],
   "source": [
    "# where global variables can be accessed\n",
    "number = 5\n",
    "def scopeTest():\n",
    "    number += 1 # not accessible due to function level scope\n",
    "scopeTest()"
   ]
  },
  {
   "cell_type": "code",
   "execution_count": 20,
   "id": "ca6cd18b",
   "metadata": {},
   "outputs": [
    {
     "name": "stdout",
     "output_type": "stream",
     "text": [
      "function\n"
     ]
    }
   ],
   "source": [
    "# accessing variables defined in a function\n",
    "def scopeTest():\n",
    "    word = \"function\"\n",
    "    return word\n",
    "value = scopeTest()\n",
    "print(value)"
   ]
  },
  {
   "cell_type": "code",
   "execution_count": 21,
   "id": "4d99fb76",
   "metadata": {},
   "outputs": [
    {
     "name": "stdout",
     "output_type": "stream",
     "text": [
      "Before Aletring: ['baseball', 'football', 'hockey', 'basketball']\n",
      "After Altering: ['soccer', 'football', 'hockey', 'basketball']\n"
     ]
    }
   ],
   "source": [
    "# changing list item values by index\n",
    "sports = [\"baseball\", \"football\", \"hockey\", \"basketball\"]\n",
    "def change(aList):\n",
    "    aList[0] = \"soccer\"\n",
    "print(\"Before Aletring: {}\".format(sports))\n",
    "change(sports)\n",
    "print(\"After Altering: {}\".format(sports))"
   ]
  },
  {
   "cell_type": "code",
   "execution_count": 22,
   "id": "bf01484c",
   "metadata": {},
   "outputs": [
    {
     "name": "stdout",
     "output_type": "stream",
     "text": [
      "Before:  ['Bob', 'Rich', 'Amanda']\n",
      "After:  ['Bob', 'Bill', 'Amanda']\n"
     ]
    }
   ],
   "source": [
    "# thursday exercises\n",
    "# names\n",
    "# create a function that will change the list passed in with a parameter of name at a given index\n",
    "# such that if i were to pass in \"bill\" and index 1\n",
    "# it would change \"rich\" to \"bill\"\n",
    "# use the list and function definition in the following\n",
    "# >>> names = ['Bob', 'Rich', 'Amanda']\n",
    "# >>> def changeValue(aList, name, index):\n",
    "names = ['Bob', 'Rich', 'Amanda']\n",
    "def changeValue(aList, name, index):\n",
    "    aList[index] = name # replace the name at the given index\n",
    "print(\"Before: \", names)\n",
    "changeValue(names, \"Bill\", 1)\n",
    "print(\"After: \", names)"
   ]
  },
  {
   "cell_type": "markdown",
   "id": "a1d14ed9",
   "metadata": {},
   "source": [
    "# Chapter 5.5 Creating a Shopping Cart"
   ]
  },
  {
   "cell_type": "code",
   "execution_count": 24,
   "id": "876fd2f4",
   "metadata": {},
   "outputs": [
    {
     "name": "stdout",
     "output_type": "stream",
     "text": [
      "Here is your cart: \n",
      "- Yoghurt\n"
     ]
    }
   ],
   "source": [
    "# import necessary functions\n",
    "from IPython.display import clear_output\n",
    "\n",
    "# global list variable\n",
    "cart = [ ]\n",
    "\n",
    "# create function to add items to cart\n",
    "def addItem(item):\n",
    "    clear_output()\n",
    "    cart.append(item)\n",
    "    print(\"{} has been added.\".format(item))\n",
    "\n",
    "# creat function to remove items from cart\n",
    "def removeItem(item):\n",
    "    clear_output()\n",
    "    try:\n",
    "        cart.remove(item)\n",
    "        print(\"{} has been removed.\".format(item))\n",
    "    except:\n",
    "        print(\"Sorry we could not remove that item.\")\n",
    "\n",
    "# create a function to show items in cart\n",
    "def showCart():\n",
    "    clear_output()\n",
    "    if cart:\n",
    "        print(\"Here is your cart: \")\n",
    "        for item in cart:\n",
    "            print(\"- {}\".format(item))\n",
    "    else:\n",
    "        print(\"Your cart is empty.\")\n",
    "\n",
    "# create function to clear items from cart\n",
    "def clearCart():\n",
    "    clear_output()\n",
    "    cart.clear()\n",
    "    print(\"Your cart is empty.\")\n",
    "\n",
    "# create main function that loops until the user quits\n",
    "def main():\n",
    "    done = False\n",
    "    while not done:\n",
    "        ans = input(\"quit/add/remove/show/clear: \").lower()\n",
    "        \n",
    "        # base case\n",
    "        if ans == \"quit\":\n",
    "            print(\"Thanks for using our program.\")\n",
    "            showCart()\n",
    "            done = True\n",
    "        elif ans == \"add\":\n",
    "            item = input(\"What would you like to add?\").title()\n",
    "            addItem(item)\n",
    "        elif ans == \"remove\":\n",
    "            showCart()\n",
    "            item = input(\"What item would you like to remove?\").title()\n",
    "            removeItem(item)\n",
    "        elif ans == \"show\":\n",
    "            showCart()\n",
    "        elif ans == \"clear\":\n",
    "            clearCart()\n",
    "        else:\n",
    "            print(\"Sorry that was not an option.\")\n",
    "\n",
    "main()  # run the program"
   ]
  },
  {
   "cell_type": "markdown",
   "id": "ddf594c2",
   "metadata": {},
   "source": [
    "# Weekly Summary"
   ]
  },
  {
   "cell_type": "code",
   "execution_count": 2,
   "id": "b9b7e82e",
   "metadata": {},
   "outputs": [
    {
     "name": "stdout",
     "output_type": "stream",
     "text": [
      "Congrats! You guessed the word:  grape\n"
     ]
    }
   ],
   "source": [
    "# refactor hangman\n",
    "# this is a large task\n",
    "# so tread lightly\n",
    "# but try to refactor the hangman project from last week to use functions\n",
    "# think about what actions hangman requires\n",
    "# and turn those tasks into functions\n",
    "import random\n",
    "from IPython.display import clear_output\n",
    "\n",
    "# sample word list\n",
    "words = [\"apple\", \"banana\", \"grape\", \"orange\", \"peach\"]\n",
    "\n",
    "# choose a random word\n",
    "def chooseWord():\n",
    "    return random.choice(words)\n",
    "\n",
    "# display current state of guessed word\n",
    "def displayWord(word, guesses):\n",
    "    display = \"\"\n",
    "    for letter in word:\n",
    "        if letter in guesses:\n",
    "            display += letter + \" \"\n",
    "        else:\n",
    "            display += \"_ \"\n",
    "    return display.strip()\n",
    "\n",
    "# get a letter from user\n",
    "def getGuess():\n",
    "    guess = input(\"Guess a letter: \").lower()\n",
    "    return guess\n",
    "\n",
    "# check win condition\n",
    "def checkWin(word, guesses):\n",
    "    for letter in word:\n",
    "        if letter not in guesses:\n",
    "            return False\n",
    "    return True\n",
    "\n",
    "# display all guessed letters and remaining turns\n",
    "def showStatus(guesses, turns):\n",
    "    print(\"Guessed letters: {}\".format(\", \".join(guesses)))\n",
    "    print(\"Turns left: {}\".format(turns))\n",
    "\n",
    "# main game function\n",
    "def playHangman():\n",
    "    word = chooseWord()\n",
    "    guesses = []\n",
    "    turns = 6\n",
    "    won = False\n",
    "\n",
    "    while turns > 0 and not won:\n",
    "        clear_output()\n",
    "        print(displayWord(word, guesses))\n",
    "        showStatus(guesses, turns)\n",
    "\n",
    "        guess = getGuess()\n",
    "\n",
    "        if guess in guesses:\n",
    "            print(\"You already guessed that letter.\")\n",
    "            continue\n",
    "\n",
    "        guesses.append(guess)\n",
    "\n",
    "        if guess not in word:\n",
    "            print(\"Wrong guess!\")\n",
    "            turns -= 1\n",
    "        else:\n",
    "            print(\"Good guess!\")\n",
    "        \n",
    "        if checkWin(word, guesses):\n",
    "            won = True\n",
    "\n",
    "        clear_output()\n",
    "        if won:\n",
    "            print(\"Congrats! You guessed the word: \", word)\n",
    "        else:\n",
    "            print(\"Game over. The word was: \", word)\n",
    "\n",
    "playHangman()"
   ]
  },
  {
   "cell_type": "code",
   "execution_count": 1,
   "id": "a8ac8d2e",
   "metadata": {},
   "outputs": [
    {
     "name": "stdout",
     "output_type": "stream",
     "text": [
      "Here is your cart: \n",
      "1) Cows\n"
     ]
    }
   ],
   "source": [
    "# removing by index\n",
    "# in the shopping cart program\n",
    "# set up the remove function so that you can remove via the index as well\n",
    "# set the list up so that it prints out as a numbered list\n",
    "# and when asked to remove an item\n",
    "# the user can also type out a number next to the list item\n",
    "# for example\n",
    "# using the following you can type \"1\" to remove \"Grapes\"\n",
    "# >>> 1) Grapes\n",
    "# >>> What would you like to remove? 1\n",
    "# import necessary functions\n",
    "from IPython.display import clear_output\n",
    "\n",
    "# global list variable\n",
    "cart = [ ]\n",
    "\n",
    "# create function to add items to cart\n",
    "def addItem(item):\n",
    "    clear_output()\n",
    "    cart.append(item)\n",
    "    print(\"{} has been added.\".format(item))\n",
    "\n",
    "# creat function to remove items from cart\n",
    "def removeItem(item):\n",
    "    clear_output()\n",
    "\n",
    "    try:\n",
    "        # try converting to index\n",
    "        index = int(item) - 1\n",
    "        if 0 <= index < len(cart):\n",
    "            removed = cart.pop(index)\n",
    "            print(f\"{removed} has been removed.\")\n",
    "        else:\n",
    "            print(\"Invalid index.\")\n",
    "    except ValueError:\n",
    "        # not a number, treat as item name\n",
    "        try:\n",
    "            cart.remove(item)\n",
    "            print(f\"{item} has been removed.\")\n",
    "        except ValueError:\n",
    "            print(\"Sorry, we could not remove that item.\")\n",
    "\n",
    "# create a function to show items in cart\n",
    "def showCart():\n",
    "    clear_output()\n",
    "\n",
    "    if cart:\n",
    "        print(\"Here is your cart: \")\n",
    "        for i, item in enumerate(cart):\n",
    "            print(f\"{i + 1}) {item}\")\n",
    "    else:\n",
    "        print(\"Your cart is empty.\")\n",
    "\n",
    "# create function to clear items from cart\n",
    "def clearCart():\n",
    "    clear_output()\n",
    "    cart.clear()\n",
    "    print(\"Your cart is empty.\")\n",
    "\n",
    "# create main function that loops until the user quits\n",
    "def main():\n",
    "    done = False\n",
    "    \n",
    "    while not done:\n",
    "        ans = input(\"quit/add/remove/show/clear: \").lower()\n",
    "        \n",
    "        # base case\n",
    "        if ans == \"quit\":\n",
    "            print(\"Thanks for using our program.\")\n",
    "            showCart()\n",
    "            done = True\n",
    "        \n",
    "        elif ans == \"add\":\n",
    "            item = input(\"What would you like to add?\").title()\n",
    "            addItem(item)\n",
    "        \n",
    "        elif ans == \"remove\":\n",
    "            showCart()\n",
    "            item = input(\"What item would you like to remove? (name or number)\").title()\n",
    "            removeItem(item)\n",
    "        \n",
    "        elif ans == \"show\":\n",
    "            showCart()\n",
    "        \n",
    "        elif ans == \"clear\":\n",
    "            clearCart()\n",
    "        \n",
    "        else:\n",
    "            print(\"Sorry that was not an option.\")\n",
    "\n",
    "main()  # run the program"
   ]
  }
 ],
 "metadata": {
  "kernelspec": {
   "display_name": "bootcamp",
   "language": "python",
   "name": "python3"
  },
  "language_info": {
   "codemirror_mode": {
    "name": "ipython",
    "version": 3
   },
   "file_extension": ".py",
   "mimetype": "text/x-python",
   "name": "python",
   "nbconvert_exporter": "python",
   "pygments_lexer": "ipython3",
   "version": "3.10.16"
  }
 },
 "nbformat": 4,
 "nbformat_minor": 5
}
