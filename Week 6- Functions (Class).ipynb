{
 "cells": [
  {
   "cell_type": "markdown",
   "id": "dc976b1f",
   "metadata": {},
   "source": [
    "# Challenge 1: Basic Function with Parameters"
   ]
  },
  {
   "cell_type": "code",
   "execution_count": 1,
   "id": "80ae7cd5",
   "metadata": {},
   "outputs": [
    {
     "name": "stdout",
     "output_type": "stream",
     "text": [
      "Hello, Alice! Welcome to Python programming.\n",
      "Hello, Bob! Welcome to Python programming.\n"
     ]
    }
   ],
   "source": [
    "# define a function named greet that takes one parameter: name\n",
    "def greet(name):\n",
    "    print(f\"Hello, {name}! Welcome to Python programming.\")\n",
    "\n",
    "# call the function twice with different names\n",
    "greet(\"Alice\")\n",
    "greet(\"Bob\")"
   ]
  },
  {
   "cell_type": "markdown",
   "id": "96ad5b74",
   "metadata": {},
   "source": [
    "# Challenge 2: Function with Return Statement"
   ]
  },
  {
   "cell_type": "code",
   "execution_count": 3,
   "id": "a508b122",
   "metadata": {},
   "outputs": [
    {
     "name": "stdout",
     "output_type": "stream",
     "text": [
      "Invalid input. Please enter numerical values.\n"
     ]
    }
   ],
   "source": [
    "# define a function that takes two parameters and returns their sum\n",
    "def addNumbers(a, b):\n",
    "    return a + b\n",
    "\n",
    "try:\n",
    "    # prompt the user to enter two numbers\n",
    "    num1 = float(input(\"Enter the first number: \"))\n",
    "    num2 = float(input(\"Enter the second number: \"))\n",
    "\n",
    "    # call the addNumbers function and print the result\n",
    "    result = addNumbers(num1, num2)\n",
    "    print(\"The sum is:\", result)\n",
    "\n",
    "except:\n",
    "    print(\"Invalid input. Please enter numerical values.\")"
   ]
  },
  {
   "cell_type": "markdown",
   "id": "6d7e47e0",
   "metadata": {},
   "source": [
    "# Challenge 3: Function with Default Parameters"
   ]
  },
  {
   "cell_type": "code",
   "execution_count": 4,
   "id": "ffda3161",
   "metadata": {},
   "outputs": [
    {
     "name": "stdout",
     "output_type": "stream",
     "text": [
      "Good morning, Alice!\n",
      "Hello, Bob!\n"
     ]
    }
   ],
   "source": [
    "# define a function with default parameter for greeting\n",
    "def greetDefault(name, greeting = \"Hello\"):\n",
    "    print(f\"{greeting}, {name}!\")\n",
    "\n",
    "# call the function twice:\n",
    "# first with both parameters\n",
    "greetDefault(\"Alice\", \"Good morning\")\n",
    "\n",
    "# second with only the name (default greeting)\n",
    "greetDefault(\"Bob\")"
   ]
  },
  {
   "cell_type": "markdown",
   "id": "c479efbd",
   "metadata": {},
   "source": [
    "# Challenge 4: Function with Arbitrary Arguments"
   ]
  },
  {
   "cell_type": "code",
   "execution_count": 5,
   "id": "7bb3e218",
   "metadata": {},
   "outputs": [
    {
     "name": "stdout",
     "output_type": "stream",
     "text": [
      "The average is: 24.25\n"
     ]
    }
   ],
   "source": [
    "# define a function that takes any number of \n",
    "def calculateAverage(*numbers):\n",
    "    if len(numbers) == 0:\n",
    "        return 0\n",
    "    return sum(numbers) / len(numbers)\n",
    "\n",
    "try:\n",
    "    # prompt the user to enter numbers separated by spaces\n",
    "    user_input = input(\"Enter numbers separated by spaces: \")\n",
    "\n",
    "    # convert the input into a list of integers \n",
    "    num_list = [int(x) for x in user_input.strip().split()]\n",
    "\n",
    "    # call the function and print the result\n",
    "    average = calculateAverage(*num_list)\n",
    "    print(\"The average is:\", average)\n",
    "\n",
    "except:\n",
    "    print(\"Please enter valid integers only.\")"
   ]
  },
  {
   "cell_type": "markdown",
   "id": "d4be8bb0",
   "metadata": {},
   "source": [
    "# Challenge 5: Recursive Function"
   ]
  },
  {
   "cell_type": "code",
   "execution_count": 8,
   "id": "f8e8c33f",
   "metadata": {},
   "outputs": [
    {
     "name": "stdout",
     "output_type": "stream",
     "text": [
      "Inavalid input. Please enter an integer.\n"
     ]
    }
   ],
   "source": [
    "# define a recursive function to calculate\n",
    "def factorial(n):\n",
    "    if n == 0 or n == 1:\n",
    "        return 1\n",
    "    else:\n",
    "        return n * factorial(n - 1)\n",
    "    \n",
    "try:\n",
    "    # prompt the user to enter a non-negative integer\n",
    "    num = int(input(\"Enter a non-negative integer: \"))\n",
    "\n",
    "    if num < 0:\n",
    "        print(\"Please enter a non-negative integer.\")\n",
    "    else:\n",
    "        # call the factorial function and print the result\n",
    "        result = factorial(num)\n",
    "        print(f\"The factorial of {num} is {result}.\")\n",
    "\n",
    "except:\n",
    "    print(\"Inavalid input. Please enter an integer.\")"
   ]
  }
 ],
 "metadata": {
  "kernelspec": {
   "display_name": "bootcamp",
   "language": "python",
   "name": "python3"
  },
  "language_info": {
   "codemirror_mode": {
    "name": "ipython",
    "version": 3
   },
   "file_extension": ".py",
   "mimetype": "text/x-python",
   "name": "python",
   "nbconvert_exporter": "python",
   "pygments_lexer": "ipython3",
   "version": "3.10.16"
  }
 },
 "nbformat": 4,
 "nbformat_minor": 5
}
