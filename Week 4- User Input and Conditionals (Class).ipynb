{
 "cells": [
  {
   "cell_type": "markdown",
   "id": "84b72ac8",
   "metadata": {},
   "source": [
    "# Challenge 4: Conditional with Logical Operators"
   ]
  },
  {
   "cell_type": "markdown",
   "id": "e7654ee5",
   "metadata": {},
   "source": [
    "# Challenge 5: Conditional with Error Handling"
   ]
  },
  {
   "cell_type": "code",
   "execution_count": null,
   "id": "214ee56f",
   "metadata": {},
   "outputs": [
    {
     "name": "stdout",
     "output_type": "stream",
     "text": [
      "Valid age.\n"
     ]
    }
   ],
   "source": [
    "# prompt the user to enter age\n",
    "age = input(\"Enter your age: \")\n",
    "# using the try and except blocks, use tab to indent where necessary\n",
    "try:\n",
    "    if 0 <= int(age) <= 120:                               # re-declaring age to store an integer\n",
    "        print(\"Valid age.\")\n",
    "    else: \n",
    "        print(\"Age out of range.\")\n",
    "except:\n",
    "    print(\"Invalid input. Please enter a valid number.\")"
   ]
  }
 ],
 "metadata": {
  "kernelspec": {
   "display_name": "bootcamp",
   "language": "python",
   "name": "python3"
  },
  "language_info": {
   "codemirror_mode": {
    "name": "ipython",
    "version": 3
   },
   "file_extension": ".py",
   "mimetype": "text/x-python",
   "name": "python",
   "nbconvert_exporter": "python",
   "pygments_lexer": "ipython3",
   "version": "3.10.16"
  }
 },
 "nbformat": 4,
 "nbformat_minor": 5
}
