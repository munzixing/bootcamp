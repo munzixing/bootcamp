{
 "cells": [
  {
   "cell_type": "markdown",
   "id": "869f5dd4",
   "metadata": {},
   "source": [
    "# Chapter 6.1 Dictonaries"
   ]
  },
  {
   "cell_type": "code",
   "execution_count": 2,
   "id": "3c32a5e3",
   "metadata": {},
   "outputs": [
    {
     "name": "stdout",
     "output_type": "stream",
     "text": [
      "{'name': 'Morty', 'age': 26}\n"
     ]
    }
   ],
   "source": [
    "# declaring a dictionary variable\n",
    "empty = { }                     # empty dictionary\n",
    "person = {\"name\": \"John Smith\"} # dictionary with one key/value pair\n",
    "customer = {\n",
    "    \"name\": \"Morty\",\n",
    "    \"age\": 26\n",
    "}                               # dictionary with two key/value pairs\n",
    "print(customer)"
   ]
  },
  {
   "cell_type": "code",
   "execution_count": 3,
   "id": "8aed2b37",
   "metadata": {},
   "outputs": [
    {
     "name": "stdout",
     "output_type": "stream",
     "text": [
      "John\n",
      "Age is not available.\n"
     ]
    }
   ],
   "source": [
    "# using the get method to access dictionary information\n",
    "person = {\"name\": \"John\"}\n",
    "print(person.get(\"name\"))                           # retrieves value of name key as before\n",
    "print(person.get(\"age\", \"Age is not available.\"))   # get is a secure way to retrieve information"
   ]
  },
  {
   "cell_type": "code",
   "execution_count": 4,
   "id": "b1ceecc9",
   "metadata": {},
   "outputs": [
    {
     "name": "stdout",
     "output_type": "stream",
     "text": [
      "baseball\n"
     ]
    }
   ],
   "source": [
    "# storing a list within a dictionary and accessing it\n",
    "data = {\"sports\": [\"baseball\", \"football\", \"hockey\", \"soccer\"]}\n",
    "print(data[\"sports\"][0])    # first access the key, then the index"
   ]
  },
  {
   "cell_type": "code",
   "execution_count": 6,
   "id": "c15ea977",
   "metadata": {},
   "outputs": [],
   "source": [
    "# improperly storing a list within a dictionary\n",
    "sports = [\"baseball\", \"football\", \"hockey\", \"soccer\"]\n",
    "sports_dict = dict({\"sports\": sports})  # will produce error, no key"
   ]
  },
  {
   "cell_type": "code",
   "execution_count": 7,
   "id": "fb9ff183",
   "metadata": {},
   "outputs": [
    {
     "name": "stdout",
     "output_type": "stream",
     "text": [
      "{'name': 'Kirsten'}\n",
      "Kirsten\n"
     ]
    }
   ],
   "source": [
    "# storing a dictionary within a list and accessing it\n",
    "data = [\"John\", \"Dennis\", {\"name\": \"Kirsten\"}]\n",
    "print(data[2])          # the dictionary is in index 2\n",
    "print(data[2][\"name\"])  # first access the index, then access the key"
   ]
  },
  {
   "cell_type": "code",
   "execution_count": 9,
   "id": "9f009bee",
   "metadata": {},
   "outputs": [
    {
     "name": "stdout",
     "output_type": "stream",
     "text": [
      "{'2018': 108, '2017': 93}\n",
      "108\n"
     ]
    }
   ],
   "source": [
    "# storing a dictionary within a dictionary and accessing it\n",
    "data = {\n",
    "    \"team\": \"Boston Red Sox\",\n",
    "    \"wins\": {\"2018\": 108, \"2017\": 93}\n",
    "}\n",
    "print(data[\"wins\"])         # will output the dictionary within the wins key\n",
    "print(data[\"wins\"][\"2018\"]) # first access the wins key, then the next key"
   ]
  },
  {
   "cell_type": "code",
   "execution_count": null,
   "id": "e1768de4",
   "metadata": {},
   "outputs": [
    {
     "name": "stdout",
     "output_type": "stream",
     "text": [
      "{'name': 'xing', 'age': '23'}\n",
      "flour\n",
      "eggs\n",
      "milk\n",
      "sugar\n",
      "baking powder\n"
     ]
    }
   ],
   "source": [
    "# monday exercises\n",
    "# user input\n",
    "# ask the use for their name and age, and then create a dictionary with those key-value pairs\n",
    "# output the dictionary once created\n",
    "\n",
    "# ask the user for their name and age\n",
    "name = input(\"What is your name?\")\n",
    "age = input(\"What is your age?\")\n",
    "\n",
    "# create a dictionary with the user's information\n",
    "user_info = {\n",
    "    \"name\": name,\n",
    "    \"age\": age\n",
    "}\n",
    "\n",
    "# print the dictionary\n",
    "print(user_info)\n",
    "\n",
    "# accessing ingredients\n",
    "# output all the ingredients from the following list within the \"ingredients\" key a for loop\n",
    "\n",
    "# dictionary with a list of ingredients\n",
    "pizza = {\n",
    "    \"ingredients\": [\"cheese\", \"sausage\", \"peppers\"]\n",
    "}\n",
    "\n",
    "# output each ingredients using a for loop\n",
    "for ingredient in pizza[\"ingredients\"]:\n",
    "    print(ingredient)"
   ]
  },
  {
   "cell_type": "markdown",
   "id": "56690999",
   "metadata": {},
   "source": [
    "# Chapter 6.2 Working with Dictionaries"
   ]
  },
  {
   "cell_type": "code",
   "execution_count": 12,
   "id": "a925a291",
   "metadata": {},
   "outputs": [
    {
     "name": "stdout",
     "output_type": "stream",
     "text": [
      "Year: 2018 \t Color: Blue\n"
     ]
    }
   ],
   "source": [
    "# adding new key/value pairs to a dictionary\n",
    "car = {\"year\": 2018}\n",
    "car[\"color\"] = \"Blue\"\n",
    "print(\"Year: {} \\t Color: {}\".format(car[\"year\"], car[\"color\"]))"
   ]
  },
  {
   "cell_type": "code",
   "execution_count": 13,
   "id": "7729af89",
   "metadata": {},
   "outputs": [
    {
     "name": "stdout",
     "output_type": "stream",
     "text": [
      "Year: 2018 \t Color: Red\n"
     ]
    }
   ],
   "source": [
    "# updating a value for a key/value pair that already exists\n",
    "car = {\"year\": 2018, \"color\": \"Blue\"}\n",
    "car[\"color\"] = \"Red\"\n",
    "print(\"Year: {} \\t Color: {}\".format(car[\"year\"], car[\"color\"]))"
   ]
  },
  {
   "cell_type": "code",
   "execution_count": 14,
   "id": "39a020a1",
   "metadata": {},
   "outputs": [
    {
     "name": "stdout",
     "output_type": "stream",
     "text": [
      "{}\n"
     ]
    }
   ],
   "source": [
    "# deleting a key/value pair from a dictionary\n",
    "car = {\"year\": 2018}\n",
    "try:\n",
    "    del car[\"year\"]\n",
    "    print(car)\n",
    "except:\n",
    "    print(\"That key does not exist\")"
   ]
  },
  {
   "cell_type": "code",
   "execution_count": 15,
   "id": "e898c24d",
   "metadata": {},
   "outputs": [
    {
     "name": "stdout",
     "output_type": "stream",
     "text": [
      "name\n",
      "John\n",
      "age\n",
      "26\n"
     ]
    }
   ],
   "source": [
    "# looping over a dictionary via the keys\n",
    "person = {\"name\": \"John\", \"age\": 26}\n",
    "for key in person.keys():\n",
    "    print(key)\n",
    "    print(person[key])  # will output the value at the current key"
   ]
  },
  {
   "cell_type": "code",
   "execution_count": 16,
   "id": "6435590a",
   "metadata": {},
   "outputs": [
    {
     "name": "stdout",
     "output_type": "stream",
     "text": [
      "John\n",
      "26\n"
     ]
    }
   ],
   "source": [
    "# looping over a dictionary via the values\n",
    "person = {\"name\": \"John\", \"age\": 26}\n",
    "for value in person.values():\n",
    "    print(value)"
   ]
  },
  {
   "cell_type": "code",
   "execution_count": 17,
   "id": "b8090e78",
   "metadata": {},
   "outputs": [
    {
     "name": "stdout",
     "output_type": "stream",
     "text": [
      "John\n",
      "26\n"
     ]
    }
   ],
   "source": [
    "# looping over a dictionary via the values\n",
    "person = {\"name\": \"John\", \"age\": 26}\n",
    "for value in person.values():\n",
    "    print(value)"
   ]
  },
  {
   "cell_type": "code",
   "execution_count": 18,
   "id": "0231fde7",
   "metadata": {},
   "outputs": [
    {
     "name": "stdout",
     "output_type": "stream",
     "text": [
      "name: John\n",
      "age: 26\n"
     ]
    }
   ],
   "source": [
    "# looping over a dictionary via the key/value pair\n",
    "person = {\"name\": \"John\", \"age\": 26}\n",
    "for key, value in person.items():\n",
    "    print(\"{}: {}\".format(key, value))"
   ]
  },
  {
   "cell_type": "code",
   "execution_count": null,
   "id": "8eadb6dd",
   "metadata": {},
   "outputs": [
    {
     "name": "stdout",
     "output_type": "stream",
     "text": [
      "Here is the information you provided: \n",
      "Name: x\n",
      "Address: x\n",
      "Number: x\n",
      "John Smith\n"
     ]
    }
   ],
   "source": [
    "# tuesday exercises\n",
    "# user input\n",
    "# declare an empty dictionary\n",
    "# ask the use for their name, address, and number\n",
    "# add that information to the dictionary and iterate over it to show the user\n",
    "\n",
    "# declare an empty dictionary\n",
    "user_info = {}\n",
    "\n",
    "# ask the user for input\n",
    "user_info[\"name\"] = input(\"What is your name?\")\n",
    "user_info[\"address\"] = input(\"What is your address?\")\n",
    "user_info[\"number\"] = input(\"What is your phone number?\")\n",
    "\n",
    "# print out the dictionary contents using a for loop\n",
    "print(\"\\nHere is the information you provided: \")\n",
    "for key, value in user_info.items():\n",
    "    print(f\"{key.capitalize()}: {value}\")\n",
    "\n",
    "# problem-solving\n",
    "# what is wrong with the following code\n",
    "# >>> person = {'name', 'John Smith'}\n",
    "# >>> print(person['name'])\n",
    "\n",
    "person = {'name': 'John Smith'}\n",
    "print(person['name'])"
   ]
  },
  {
   "cell_type": "markdown",
   "id": "9ecec306",
   "metadata": {},
   "source": [
    "# Chapter 6.3 Tuples, Sets, and Frozensets"
   ]
  },
  {
   "cell_type": "code",
   "execution_count": null,
   "id": "579a7cd2",
   "metadata": {},
   "outputs": [
    {
     "name": "stdout",
     "output_type": "stream",
     "text": [
      "<class 'tuple'> <class 'tuple'>\n"
     ]
    }
   ],
   "source": [
    "# declaring a tuple\n",
    "t1 = (\"hello\", 2, \"hello\")  # with parens\n",
    "t2 = True, 1                # without parens\n",
    "print(type(t1), type(t2))   # both are tuples\n",
    "# t1[0] = 1                 # will crash, tuples are immutable once declared"
   ]
  },
  {
   "cell_type": "code",
   "execution_count": 24,
   "id": "71b24a10",
   "metadata": {},
   "outputs": [
    {
     "name": "stdout",
     "output_type": "stream",
     "text": [
      "<class 'set'> <class 'set'>\n",
      "{2, 3, 5}\n"
     ]
    }
   ],
   "source": [
    "# declaring a set\n",
    "s1 = set([1, 2, 3, 1])  # uses the set keywod and square brackets\n",
    "s2 = {4, 4, 5}          # uses curly brackets, like dictionary\n",
    "print(type(s1), type(s2))\n",
    "s1.add(5)               # using the add method to add new items to a set\n",
    "s1.remove(1)            # using the remove method to get rid of the value 1\n",
    "print(s1)               # notice when printed it removed the second \"1\" at the end"
   ]
  },
  {
   "cell_type": "code",
   "execution_count": 25,
   "id": "ec8a685b",
   "metadata": {},
   "outputs": [
    {
     "name": "stdout",
     "output_type": "stream",
     "text": [
      "<class 'frozenset'>\n"
     ]
    }
   ],
   "source": [
    "# declaring a frozenset\n",
    "fset = frozenset([1, 2, 3, 4])\n",
    "print(type(fset))"
   ]
  },
  {
   "cell_type": "code",
   "execution_count": null,
   "id": "b78876ca",
   "metadata": {},
   "outputs": [
    {
     "name": "stdout",
     "output_type": "stream",
     "text": [
      "\n",
      "Unique (frozen) account numbers: \n",
      "frozenset({'64116', '185461', '2665'})\n",
      "Unique numbers:  {10, 3, 4, 7}\n"
     ]
    }
   ],
   "source": [
    "# wednesday exercises\n",
    "# user input\n",
    "# ask the user to input as many bank account numbers as they'd like\n",
    "# and store them within a list initially\n",
    "# once the user is done entering information\n",
    "# convert the list to a frozenset and print it out\n",
    "\n",
    "# declare an empty list to store bank account numbers\n",
    "account_nums = []\n",
    "\n",
    "# keep asking the user for input until they type 'done'\n",
    "while True:\n",
    "    entry = input(\"Enter a bank account number (or type 'done' to finish):\")\n",
    "    if entry.lower() == 'done':\n",
    "        break\n",
    "    account_nums.append(entry)\n",
    "\n",
    "# convert the list to a frozenset\n",
    "account_fset = frozenset(account_nums)\n",
    "\n",
    "# print the frozenset\n",
    "print(\"\\nUnique (frozen) account numbers: \")\n",
    "print(account_fset)\n",
    "\n",
    "# conversion\n",
    "# convert the following list into a set of unique values\n",
    "# print it out after to check there are no duplicates\n",
    "# >>> nums = [3, 4, 3, 7, 10]\n",
    "\n",
    "# given list of duplicates\n",
    "nums = [3, 4, 3, 7, 10]\n",
    "\n",
    "# convert to a set to remove duplicates\n",
    "unique_nums = set(nums)\n",
    "\n",
    "# print the set\n",
    "print(\"Unique numbers:\", unique_nums)"
   ]
  },
  {
   "cell_type": "markdown",
   "id": "0d74ee57",
   "metadata": {},
   "source": [
    "# Chapter 6.4 Reading and Writing Files"
   ]
  },
  {
   "cell_type": "code",
   "execution_count": 27,
   "id": "bc9273ea",
   "metadata": {},
   "outputs": [
    {
     "name": "stdout",
     "output_type": "stream",
     "text": [
      "this is a test\n"
     ]
    }
   ],
   "source": [
    "# opening/creating and writing to a text file\n",
    "f = open(\"test.txt\", \"w+\")  # open file in writing and reading mode\n",
    "f.write(\"this is a test\")\n",
    "f.close()\n",
    "# reading from a text file\n",
    "f = open(\"test.txt\", \"r\")\n",
    "data = f.read()\n",
    "f.close()\n",
    "print(data)"
   ]
  },
  {
   "cell_type": "code",
   "execution_count": 28,
   "id": "6cbc4a3e",
   "metadata": {},
   "outputs": [],
   "source": [
    "# opening/creating and writing to a csv file\n",
    "import csv\n",
    "with open(\"test.csv\", mode = \"w\", newline = \"\") as f:\n",
    "    writer = csv.writer(f, delimiter = \",\")\n",
    "    writer.writerow([\"Name\", \"City\"])\n",
    "    writer.writerow([\"Craig Lou\", \"Taiwan\"])"
   ]
  },
  {
   "cell_type": "code",
   "execution_count": 29,
   "id": "decafde5",
   "metadata": {},
   "outputs": [
    {
     "name": "stdout",
     "output_type": "stream",
     "text": [
      "['Name', 'City']\n",
      "['Craig Lou', 'Taiwan']\n"
     ]
    }
   ],
   "source": [
    "# reading from csv files\n",
    "with open(\"test.csv\", mode = \"r\") as f:\n",
    "    reader = csv.reader(f, delimiter = \",\")\n",
    "    for row in reader:\n",
    "        print(row)"
   ]
  },
  {
   "cell_type": "code",
   "execution_count": 30,
   "id": "c112d0fe",
   "metadata": {},
   "outputs": [
    {
     "name": "stdout",
     "output_type": "stream",
     "text": [
      "Your favourite number has been saved.\n",
      "Data was been written to people_languages.csv\n"
     ]
    }
   ],
   "source": [
    "# thursday exercises\n",
    "# user input\n",
    "# ask a usere for their favourite number\n",
    "# and save it to a text file\n",
    "\n",
    "# ask for user input\n",
    "fav_num = input(\"What is your favourite number?\")\n",
    "\n",
    "# save it to a text file\n",
    "with open(\"fav_num.txt\", \"w\") as f:\n",
    "    f.write(fav_num)\n",
    "\n",
    "print(\"Your favourite number has been saved.\")\n",
    "\n",
    "# data dumping\n",
    "# using the dictionary of following data\n",
    "# save the information to a csv file with the keys as the headers and the values as the rows of data\n",
    "\n",
    "import csv\n",
    "\n",
    "# given dictionary\n",
    "data = {\n",
    "    \"name\": [\"Dave\", \"Dennis\", \"Peter\", \"Jess\"],\n",
    "    \"language\": [\"Python\", \"C\", \"Java\", \"Python\"]\n",
    "}\n",
    "\n",
    "# write to a csv file\n",
    "with open(\"people_languages.csv\", mode = \"w\", newline = \"\") as f:\n",
    "    writer = csv.writer(f)\n",
    "\n",
    "    # write headers (keys)\n",
    "    writer.writerow(data.keys())\n",
    "\n",
    "    # transpose and write rows (values)\n",
    "    for i in range(len(data[\"name\"])):\n",
    "        row = [data[\"name\"][i], data[\"language\"][i]]\n",
    "        writer.writerow(row)\n",
    "\n",
    "print(\"Data was been written to people_languages.csv\")"
   ]
  },
  {
   "cell_type": "markdown",
   "id": "4155a328",
   "metadata": {},
   "source": [
    "# Chapter 6.5 Creating a User Database with CSV Files"
   ]
  },
  {
   "cell_type": "code",
   "execution_count": 32,
   "id": "15e85a44",
   "metadata": {},
   "outputs": [
    {
     "name": "stdout",
     "output_type": "stream",
     "text": [
      "Thanks for using our software!\n"
     ]
    }
   ],
   "source": [
    "# import all necessary packages to be used\n",
    "import csv\n",
    "from IPython.display import clear_output\n",
    "\n",
    "# handle user registration and writing to csv\n",
    "def registerUser():\n",
    "    with open(\"users.csv\", mode = \"a\", newline = \"\") as f:\n",
    "        writer = csv.writer(f, delimiter = \",\")\n",
    "\n",
    "        print(\"To register, please enter your info:\")\n",
    "        email = input(\"E-mail: \")\n",
    "        password = input(\"Password: \")\n",
    "        password2 = input(\"Re-type passwprd: \")\n",
    "        \n",
    "        clear_output()\n",
    "\n",
    "        if password == password2:\n",
    "            writer.writerow([email, password])\n",
    "            print(\"Your are now registered!\")\n",
    "        else:\n",
    "            print(\"Something went wrong. Try again\")\n",
    "\n",
    "# ask for user info and return true to login or false if incorrect info\n",
    "def loginUser():\n",
    "    print(\"To login, please enter your info:\")\n",
    "    email = input(\"E-mail: \")\n",
    "    password = input(\"Password: \")\n",
    "    \n",
    "    clear_output()\n",
    "\n",
    "    with open(\"users.csv\", mode = \"r\") as f:\n",
    "        reader = csv.reader(f, delimiter = \",\")\n",
    "        \n",
    "        for row in reader:\n",
    "            if row == [email, password]:\n",
    "                print(\"You are now logged in!\")\n",
    "                return True\n",
    "    \n",
    "    \n",
    "    print(\"Something went wrong, try again.\")\n",
    "    return False\n",
    "\n",
    "# variables for main loop\n",
    "active = True\n",
    "logged_in = False\n",
    "\n",
    "# main loop\n",
    "while active:\n",
    "    if logged_in:\n",
    "        print(\"1. Logout\\n2. Quit\")\n",
    "    else:\n",
    "        print(\"1. Login\\n2. Register\\n3. Quit\")\n",
    "\n",
    "    choice = input(\"What would you like to do? \").lower()\n",
    "\n",
    "    clear_output()\n",
    "\n",
    "    if choice == \"register\" and logged_in == False:\n",
    "        registerUser()\n",
    "    elif choice == \"login\" and logged_in == False:\n",
    "        logged_in = loginUser()\n",
    "    elif choice == \"quit\":\n",
    "        active = False\n",
    "        print(\"Thanks for using our software!\")\n",
    "    elif choice == \"logout\" and logged_in == True:\n",
    "        logged_in = False\n",
    "        print(\"You are now logged out.\")\n",
    "    else:\n",
    "        print(\"Sorry, please try again!\")"
   ]
  },
  {
   "cell_type": "markdown",
   "id": "37a924d1",
   "metadata": {},
   "source": [
    "# Weekly Challenges"
   ]
  },
  {
   "cell_type": "code",
   "execution_count": 35,
   "id": "a412cc8f",
   "metadata": {},
   "outputs": [
    {
     "name": "stdout",
     "output_type": "stream",
     "text": [
      "Thanks for using our software!\n",
      "\n",
      "Favourite Food? | # of Votes\n",
      "--------------------------\n",
      "somtum          1\n"
     ]
    }
   ],
   "source": [
    "# changing passwords\n",
    "# add a function called \"changePassword\" to the project from Friday that will allow users to change their password when logged in\n",
    "\n",
    "# import all necessary packages to be used\n",
    "import csv\n",
    "from IPython.display import clear_output\n",
    "\n",
    "# handle user registration and writing to csv\n",
    "def registerUser():\n",
    "    with open(\"users.csv\", mode = \"a\", newline = \"\") as f:\n",
    "        writer = csv.writer(f, delimiter = \",\")\n",
    "\n",
    "        print(\"To register, please enter your info:\")\n",
    "        email = input(\"E-mail: \")\n",
    "        password = input(\"Password: \")\n",
    "        password2 = input(\"Re-type passwprd: \")\n",
    "        \n",
    "        clear_output()\n",
    "\n",
    "        if password == password2:\n",
    "            writer.writerow([email, password])\n",
    "            print(\"Your are now registered!\")\n",
    "        else:\n",
    "            print(\"Something went wrong. Try again\")\n",
    "\n",
    "# ask for user info and return true to login or false if incorrect info\n",
    "def loginUser():\n",
    "    print(\"To login, please enter your info:\")\n",
    "    email = input(\"E-mail: \")\n",
    "    password = input(\"Password: \")\n",
    "    \n",
    "    clear_output()\n",
    "\n",
    "    with open(\"users.csv\", mode = \"r\") as f:\n",
    "        reader = csv.reader(f, delimiter = \",\")\n",
    "        \n",
    "        for row in reader:\n",
    "            if row == [email, password]:\n",
    "                print(\"You are now logged in!\")\n",
    "                return True\n",
    "    \n",
    "    \n",
    "    print(\"Something went wrong, try again.\")\n",
    "    return False\n",
    "\n",
    "def changePassword():\n",
    "    print(\"To change your password, please verify your email:\")\n",
    "    email = input(\"E-mail:\")\n",
    "    old_password = input(\"Current Password:\")\n",
    "\n",
    "    new_password = input(\"New Password: \")\n",
    "    new_password2 = input(\"Re-type New Password: \")\n",
    "\n",
    "    clear_output()\n",
    "\n",
    "    if new_password != new_password2:\n",
    "        print(\"New passwords do not match. Try again.\")\n",
    "        return\n",
    "    \n",
    "    # read all user data\n",
    "    with open (\"users.csv\", mode = \"r\") as f:\n",
    "        users = list(csv.reader(f))\n",
    "\n",
    "    # update the password if email and old_password match\n",
    "    updated = False\n",
    "    for user in users:\n",
    "        if user == [email, old_password]:\n",
    "            user[1] = new_password\n",
    "            updated = True\n",
    "\n",
    "    if updated:\n",
    "        with open(\"users.csv\", mode = \"w\", newline = \"\") as f:\n",
    "            writer = csv.writer(f)\n",
    "            writer.writerows(users)\n",
    "        print(\"Password changed successfully.\")\n",
    "    else:\n",
    "        print(\"Email or current password is incorrect.\")\n",
    "\n",
    "\n",
    "# variables for main loop\n",
    "active = True\n",
    "logged_in = False\n",
    "\n",
    "# main loop\n",
    "while active:\n",
    "    if logged_in:\n",
    "        print(\"1. Logout\\n2. Quit\\n3. Change Password\")\n",
    "    else:\n",
    "        print(\"1. Login\\n2. Register\\n3. Quit\")\n",
    "\n",
    "    choice = input(\"What would you like to do? \").lower()\n",
    "\n",
    "    clear_output()\n",
    "\n",
    "    if choice == \"register\" and logged_in == False:\n",
    "        registerUser()\n",
    "    elif choice == \"login\" and logged_in == False:\n",
    "        logged_in = loginUser()\n",
    "    elif choice == \"quit\":\n",
    "        active = False\n",
    "        print(\"Thanks for using our software!\")\n",
    "    elif choice == \"logout\" and logged_in == True:\n",
    "        logged_in = False\n",
    "        print(\"You are now logged out.\")\n",
    "    elif choice == \"change password\" and logged_in:\n",
    "        changePassword()\n",
    "    else:\n",
    "        print(\"Sorry, please try again!\")\n",
    "\n",
    "# favourite food\n",
    "# write a new program that will ask users what their favourite food is\n",
    "# save the answers to a csv file called \"favourite_food.csv\"\n",
    "# after answering\n",
    "# display a table of tallied results\n",
    "\n",
    "import csv\n",
    "from collections import Counter\n",
    "\n",
    "# ask user for favourite food\n",
    "food = input(\"What is your favourite food?\")\n",
    "\n",
    "# save to csv\n",
    "with open(\"favourite_food.csv\", mode = \"a\", newline = \"\") as f:\n",
    "    writer = csv.writer(f)\n",
    "    writer.writerow([food])\n",
    "\n",
    "# read and tally results\n",
    "with open(\"favourite_food.csv\", mode = \"r\") as f:\n",
    "    reader = csv.reader(f)\n",
    "    all_foods = [row[0] for row in reader]\n",
    "\n",
    "tally = Counter(all_foods)\n",
    "\n",
    "# print table\n",
    "print(\"\\nFavourite Food? | # of Votes\")\n",
    "print(\"-\" * 26)\n",
    "for food, count in tally.items():\n",
    "    print(f\"{food:<15} {count}\")"
   ]
  }
 ],
 "metadata": {
  "kernelspec": {
   "display_name": "bootcamp",
   "language": "python",
   "name": "python3"
  },
  "language_info": {
   "codemirror_mode": {
    "name": "ipython",
    "version": 3
   },
   "file_extension": ".py",
   "mimetype": "text/x-python",
   "name": "python",
   "nbconvert_exporter": "python",
   "pygments_lexer": "ipython3",
   "version": "3.10.16"
  }
 },
 "nbformat": 4,
 "nbformat_minor": 5
}
