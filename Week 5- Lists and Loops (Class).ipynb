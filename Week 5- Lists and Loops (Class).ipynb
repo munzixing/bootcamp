{
 "cells": [
  {
   "cell_type": "markdown",
   "id": "fd2212c1",
   "metadata": {},
   "source": [
    "# Challenge 2: Even or Odd Counter"
   ]
  },
  {
   "cell_type": "code",
   "execution_count": 9,
   "id": "1fd49f92",
   "metadata": {},
   "outputs": [
    {
     "name": "stdout",
     "output_type": "stream",
     "text": [
      "Count of even numbers:  0\n",
      "Count of odd numbers:  0\n"
     ]
    }
   ],
   "source": [
    "# with the help of chatgpt\n",
    "# prompt the user to use a positive integer\n",
    "num = int(input(\"Enter a positive integer: \"))\n",
    "\n",
    "# initialise counters\n",
    "even_count = 0\n",
    "odd_count = 0\n",
    "\n",
    "# use a for loop to iterate through all integers from 1 to the entered number\n",
    "for i in range(1, num + 1):\n",
    "    if i % 2 == 0:\n",
    "        even_count += 1\n",
    "    else:\n",
    "        odd_count += 1\n",
    "\n",
    "# print the counts of even and odd numbers\n",
    "print(\"Count of even numbers: \", even_count)\n",
    "print(\"Count of odd numbers: \", odd_count)"
   ]
  },
  {
   "cell_type": "code",
   "execution_count": null,
   "id": "4da5bcfd",
   "metadata": {},
   "outputs": [
    {
     "name": "stdout",
     "output_type": "stream",
     "text": [
      "Even numbers: 3\n",
      "Odd numbers: 4\n"
     ]
    }
   ],
   "source": [
    "# with the help of chatgpt\n",
    "# use a while loop instead of for loop\n",
    "num = int(input(\"Enter a positive integer: \"))\n",
    "\n",
    "even_count = 0\n",
    "odd_count = 0\n",
    "i = 1\n",
    "\n",
    "while i <= num:\n",
    "    if i % 2 == 0:\n",
    "        even_count += 1\n",
    "    else:\n",
    "        odd_count += 1\n",
    "    i += 1\n",
    "\n",
    "print(\"Even numbers:\", even_count)\n",
    "print(\"Odd numbers:\", odd_count)"
   ]
  },
  {
   "cell_type": "markdown",
   "id": "183d7baa",
   "metadata": {},
   "source": [
    "# Challenge 3: Factorial Calculation"
   ]
  },
  {
   "cell_type": "code",
   "execution_count": 4,
   "id": "aec073bc",
   "metadata": {},
   "outputs": [
    {
     "name": "stdout",
     "output_type": "stream",
     "text": [
      "Factorial of 6 is: 720\n"
     ]
    }
   ],
   "source": [
    "# with the help of chatgpt\n",
    "# prompt the user to enter a non-negative integer\n",
    "num = int(input(\"Enter a non-negative integer: \"))\n",
    "\n",
    "# initialise result and counter\n",
    "factorial = 1\n",
    "i = 1\n",
    "\n",
    "# use a while loop to calculate the factorial\n",
    "while i <= num:\n",
    "    factorial *= i  # same as factorial = factorial * i\n",
    "    i += 1\n",
    "\n",
    "# print the result\n",
    "print(\"Factorial of\", num, \"is:\", factorial)"
   ]
  }
 ],
 "metadata": {
  "kernelspec": {
   "display_name": "bootcamp",
   "language": "python",
   "name": "python3"
  },
  "language_info": {
   "codemirror_mode": {
    "name": "ipython",
    "version": 3
   },
   "file_extension": ".py",
   "mimetype": "text/x-python",
   "name": "python",
   "nbconvert_exporter": "python",
   "pygments_lexer": "ipython3",
   "version": "3.10.16"
  }
 },
 "nbformat": 4,
 "nbformat_minor": 5
}
