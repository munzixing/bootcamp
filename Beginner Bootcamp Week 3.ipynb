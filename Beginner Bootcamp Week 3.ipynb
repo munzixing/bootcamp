{
 "cells": [
  {
   "cell_type": "markdown",
   "id": "69eb98c4",
   "metadata": {},
   "source": [
    "# Challenge 1 Basic Variable Assignment and Output"
   ]
  },
  {
   "cell_type": "code",
   "execution_count": 4,
   "id": "0ccf3c9b",
   "metadata": {},
   "outputs": [
    {
     "name": "stdout",
     "output_type": "stream",
     "text": [
      "Hello, my name is xing and I am 23 years old.\n"
     ]
    }
   ],
   "source": [
    "name = \"xing\"\n",
    "age = \"23\"\n",
    "message = \"Hello, my name is \" + name + \" and I am \" + age + \" years old.\"\n",
    "print(message)"
   ]
  },
  {
   "cell_type": "code",
   "execution_count": null,
   "id": "f9bf6c51",
   "metadata": {},
   "outputs": [
    {
     "name": "stdout",
     "output_type": "stream",
     "text": [
      "Hello, my name is xing, and I am 23 years old!\n"
     ]
    }
   ],
   "source": [
    "name = \"xing\"\n",
    "age = \"23\"\n",
    "print(\"Hello, my name is {}, and I am {} years old.\".format(name, age) )"
   ]
  },
  {
   "cell_type": "code",
   "execution_count": null,
   "id": "f8b5baa8",
   "metadata": {},
   "outputs": [],
   "source": [
    "name = input(\"What is your name?\")\n",
    "age = input(\"What is your age?\")\n",
    "print(\"Hello, my name is {}, and I am {} years old\".format(name, age))"
   ]
  },
  {
   "cell_type": "markdown",
   "id": "adcb732c",
   "metadata": {},
   "source": [
    "# Challenge 2: Variable Types"
   ]
  },
  {
   "cell_type": "code",
   "execution_count": 10,
   "id": "b9b03479",
   "metadata": {},
   "outputs": [
    {
     "name": "stdout",
     "output_type": "stream",
     "text": [
      "<class 'str'> <class 'int'> <class 'float'> <class 'bool'>\n"
     ]
    }
   ],
   "source": [
    "greeting = \"Hi\"\n",
    "year_born = 2002\n",
    "height_in_meters = 1.6\n",
    "is_student = True\n",
    "print(type(greeting), type(year_born), type(height_in_meters), type(is_student))\n"
   ]
  },
  {
   "cell_type": "markdown",
   "id": "297855eb",
   "metadata": {},
   "source": [
    "# Challenge 3: Variable Naming and Arithmetic Operations"
   ]
  },
  {
   "cell_type": "code",
   "execution_count": 13,
   "id": "76b903f2",
   "metadata": {},
   "outputs": [
    {
     "name": "stdout",
     "output_type": "stream",
     "text": [
      "The total cost for 5 apples is 25 dollars.\n"
     ]
    }
   ],
   "source": [
    "price_apple = \"5\"\n",
    "num_apples = \"5\"\n",
    "total_cost = int(price_apple) * int(num_apples)\n",
    "print(\"The total cost for {} apples is {} dollars.\".format(num_apples, total_cost))"
   ]
  },
  {
   "cell_type": "markdown",
   "id": "5b2c47be",
   "metadata": {},
   "source": [
    "# Challenge 4: Updating Variables"
   ]
  },
  {
   "cell_type": "code",
   "execution_count": 14,
   "id": "6a99afbc",
   "metadata": {},
   "outputs": [
    {
     "name": "stdout",
     "output_type": "stream",
     "text": [
      "23\n",
      "28\n"
     ]
    }
   ],
   "source": [
    "current_age = 23\n",
    "print(current_age)\n",
    "current_age = int(current_age) + 5\n",
    "print(current_age)"
   ]
  },
  {
   "cell_type": "markdown",
   "id": "3ee87cc4",
   "metadata": {},
   "source": [
    "# Challenge 5: Swapping Variables"
   ]
  },
  {
   "cell_type": "code",
   "execution_count": 17,
   "id": "c88bb749",
   "metadata": {},
   "outputs": [
    {
     "name": "stdout",
     "output_type": "stream",
     "text": [
      "20 10\n"
     ]
    }
   ],
   "source": [
    "x, y = 10, 20\n",
    "x, y = y, x\n",
    "print(x, y)"
   ]
  }
 ],
 "metadata": {
  "kernelspec": {
   "display_name": "bootcamp",
   "language": "python",
   "name": "python3"
  },
  "language_info": {
   "codemirror_mode": {
    "name": "ipython",
    "version": 3
   },
   "file_extension": ".py",
   "mimetype": "text/x-python",
   "name": "python",
   "nbconvert_exporter": "python",
   "pygments_lexer": "ipython3",
   "version": "3.10.16"
  }
 },
 "nbformat": 4,
 "nbformat_minor": 5
}
