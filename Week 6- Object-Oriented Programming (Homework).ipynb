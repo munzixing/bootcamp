{
 "cells": [
  {
   "cell_type": "markdown",
   "id": "7f0e64c5",
   "metadata": {},
   "source": [
    "# Chapter 7.1 Creating and Instantiating a Class"
   ]
  },
  {
   "cell_type": "code",
   "execution_count": 2,
   "id": "0d86beb8",
   "metadata": {},
   "outputs": [],
   "source": [
    "# creating your first class\n",
    "class Car():\n",
    "    pass    # simply using as a placeholder until we add more code tomorrow"
   ]
  },
  {
   "cell_type": "code",
   "execution_count": 1,
   "id": "8c238225",
   "metadata": {},
   "outputs": [
    {
     "name": "stdout",
     "output_type": "stream",
     "text": [
      "<__main__.Car object at 0x00000294853D7CD0>\n"
     ]
    }
   ],
   "source": [
    "# instantiating an object from a class\n",
    "class Car():    # parens are optional here\n",
    "    pass\n",
    "ford = Car()    # creates an instance of the Car class and stores into the variable ford\n",
    "print(ford)"
   ]
  },
  {
   "cell_type": "code",
   "execution_count": null,
   "id": "732871fc",
   "metadata": {},
   "outputs": [
    {
     "name": "stdout",
     "output_type": "stream",
     "text": [
      "<__main__.Animals object at 0x00000294853D4A60>\n",
      "<__main__.Animals object at 0x00000294853D6B30>\n"
     ]
    }
   ],
   "source": [
    "# monday exercises\n",
    "# animals\n",
    "# create a class called \"Animals\"\n",
    "# and create two instances from it\n",
    "# use two variables with names of \"lion\" and \"tiger\"\n",
    "\n",
    "class Animals:\n",
    "    pass\n",
    "\n",
    "lion = Animals()\n",
    "tiger = Animals()\n",
    "\n",
    "print(lion)\n",
    "print(tiger)\n",
    "\n",
    "# problem-solving\n",
    "# what's wrong with the following code\n",
    "# >>> class Bus:\n",
    "# >>>   pass\n",
    "# >>> school_bus = Bus()\n",
    "\n",
    "# there's nothing wrong with it\n",
    "class Bus:\n",
    "    pass\n",
    "school_bus = Bus()"
   ]
  },
  {
   "cell_type": "markdown",
   "id": "525f73e2",
   "metadata": {},
   "source": [
    "# Chapter 7.2 Attributes"
   ]
  },
  {
   "cell_type": "code",
   "execution_count": 4,
   "id": "945de021",
   "metadata": {},
   "outputs": [
    {
     "name": "stdout",
     "output_type": "stream",
     "text": [
      "red\n"
     ]
    }
   ],
   "source": [
    "# how to define a class attribute\n",
    "class Car():\n",
    "    sound = \"beep\"  # all car objects will have this sound attribute and its' value\n",
    "    color = \"red\"   # all car objects will have this color attribute and its' value\n",
    "ford = Car()\n",
    "print(ford.color)   # known as 'dot syntax'"
   ]
  },
  {
   "cell_type": "code",
   "execution_count": null,
   "id": "9a1bc0d9",
   "metadata": {},
   "outputs": [],
   "source": [
    "# changing the value of an attribute\n",
    "class Car():\n",
    "    sound = \"beep\"  \n",
    "    color = \"red\"   \n",
    "ford = Car()\n",
    "print(ford.sound)   # will output 'beep'\n",
    "ford.sound = \"honk\" # from now on the value of fords sound is honk, this does not affect other instances\n",
    "print(ford.sound)   # will output 'honk'"
   ]
  },
  {
   "cell_type": "code",
   "execution_count": 6,
   "id": "eeca29dc",
   "metadata": {},
   "outputs": [
    {
     "name": "stdout",
     "output_type": "stream",
     "text": [
      "blue\n"
     ]
    }
   ],
   "source": [
    "# using the init method to give instances personalized attributes upon creation\n",
    "class Car():\n",
    "    def __init__(self, color):\n",
    "        self.color = color  # sets the attribute color to the value passed in\n",
    "ford = Car(\"blue\")          # instantiating a Car class with the color blue\n",
    "print(ford.color)"
   ]
  },
  {
   "cell_type": "code",
   "execution_count": 7,
   "id": "ec99b524",
   "metadata": {},
   "outputs": [
    {
     "name": "stdout",
     "output_type": "stream",
     "text": [
      "blue 2016\n",
      "red 2018\n"
     ]
    }
   ],
   "source": [
    "# defining different values for multiple instances\n",
    "class Car():\n",
    "    def __init__(self, color, year):\n",
    "        self.color = color  # sets the attribute color to the value passed in\n",
    "        self.year = year\n",
    "ford = Car(\"blue\", 2016)    # create a car object with the color blue and year 2016\n",
    "subaru = Car(\"red\", 2018)   # create a car object with the color red and year 2018\n",
    "print(ford.color, ford.year)\n",
    "print(subaru.color, subaru.year)"
   ]
  },
  {
   "cell_type": "code",
   "execution_count": 8,
   "id": "a65988ea",
   "metadata": {},
   "outputs": [
    {
     "name": "stdout",
     "output_type": "stream",
     "text": [
      "beep\n",
      "beep blue\n"
     ]
    }
   ],
   "source": [
    "# using and accessing global class attributes\n",
    "class Car():\n",
    "    sound = \"beep\"              # global attribute, accessible through the class itself\n",
    "    def __init__(self, color):\n",
    "        self.color = \"blue\"     # instance specific attribute, not accessible through the class itself\n",
    "print(Car.sound)\n",
    "# print (Car.color)             # won't work, as color is only available to instances of the Car class, not the class itself\n",
    "ford = Car(\"blue\")\n",
    "print(ford.sound, ford.color)   # color will work as this is an instance"
   ]
  },
  {
   "cell_type": "code",
   "execution_count": 9,
   "id": "75e2e2b1",
   "metadata": {},
   "outputs": [
    {
     "name": "stdout",
     "output_type": "stream",
     "text": [
      "Sammi Husky Canine\n",
      "Casey Chocolate Lab Canine\n",
      "Your name is: xing\n"
     ]
    }
   ],
   "source": [
    "# tuesday exercises\n",
    "# dogs\n",
    "# create a dog class that has one global attribute and two instance level attributes\n",
    "# the global attribute should be \"species\" with a value of \"Canine\"\n",
    "# the two instance attributes should be \"name\" and \"breed\"\n",
    "# then instantiate two dog objects\n",
    "# a Husky named Sammi and a Chocolate Lab named Casey\n",
    "\n",
    "class Dog:\n",
    "    species = \"Canine\"  # global class attribute\n",
    "\n",
    "    def __init__(self, name, breed):\n",
    "        self.name = name\n",
    "        self.breed = breed\n",
    "\n",
    "# create dog instances\n",
    "sammi = Dog(\"Sammi\", \"Husky\")\n",
    "casey = Dog(\"Casey\", \"Chocolate Lab\")\n",
    "\n",
    "# print out attributes\n",
    "print(sammi.name, sammi.breed, sammi.species)\n",
    "print(casey.name, casey.breed, casey.species)\n",
    "\n",
    "# user input\n",
    "# create a person class that has a single instance level attribute of \"name\"\n",
    "# ask the user to input their name\n",
    "# and create an instance of the person class with the name they typed in\n",
    "# then print out their name\n",
    "\n",
    "class Person:\n",
    "    def __init__(self, name):\n",
    "        self.name = name\n",
    "\n",
    "# ask the user for their name\n",
    "user_input = input(\"Enter your name: \")\n",
    "person = Person(user_input)\n",
    "\n",
    "# print the name\n",
    "print(\"Your name is:\", person.name)"
   ]
  },
  {
   "cell_type": "markdown",
   "id": "678541ce",
   "metadata": {},
   "source": [
    "# Chapter 7.3 Methods"
   ]
  },
  {
   "cell_type": "code",
   "execution_count": 10,
   "id": "dd78e9b1",
   "metadata": {},
   "outputs": [
    {
     "name": "stdout",
     "output_type": "stream",
     "text": [
      "bark\n"
     ]
    }
   ],
   "source": [
    "# defining and calling our first class method\n",
    "class Dog():\n",
    "    def makeSound(self):\n",
    "        print(\"bark\")\n",
    "sam = Dog()\n",
    "sam.makeSound()"
   ]
  },
  {
   "cell_type": "code",
   "execution_count": null,
   "id": "006fbee9",
   "metadata": {},
   "outputs": [],
   "source": [
    "# understanding which methods are accessible via the class itself and class instances\n",
    "class Dog():\n",
    "    sound = \"bark\"\n",
    "    def makeSound(self):\n",
    "        print(self.sound)\n",
    "    def printInfo():\n",
    "        print(\"I am a dog.\")\n",
    "Dog.printInfo()     # able to printInfo method because it does not include self parameter\n",
    "# Dog.makeSound()   # would produce error, self is in reference to instances only\n",
    "sam = Dog()\n",
    "sam.makeSound()     # able to access, self can reference the instance of sam\n",
    "# same.printInfo()  # will produce error, instances require the self paramter to access methods"
   ]
  },
  {
   "cell_type": "code",
   "execution_count": null,
   "id": "b4265556",
   "metadata": {},
   "outputs": [],
   "source": [
    "# writing methods that accept parameters\n",
    "class Dog():\n",
    "    def showAge(self, age):\n",
    "        print(age)  # does not need self, age is referencing the parameter not an attribute\n",
    "sam = Dog()\n",
    "sam.showAge(6)      # passing the integer 6 as an argument to the showAge method"
   ]
  },
  {
   "cell_type": "code",
   "execution_count": null,
   "id": "0883d237",
   "metadata": {},
   "outputs": [
    {
     "name": "stdout",
     "output_type": "stream",
     "text": [
      "Sammi\n"
     ]
    }
   ],
   "source": [
    "# using methods to set or return attribute values, proper programming practice\n",
    "class Dog:\n",
    "    name = ' '                  # would normally use init method to declare, this is for testing purposes\n",
    "    def setName(self, new_name):\n",
    "        self.name = new_name    # declares the new value for the new attribute\n",
    "    def getName(self):\n",
    "        return self.name        # returns the value of the name attribute\n",
    "sam = Dog()\n",
    "sam.setName(\"Sammi\")\n",
    "print(sam.getName())            # print the returned value of self.name"
   ]
  },
  {
   "cell_type": "code",
   "execution_count": 14,
   "id": "f8ac7dd7",
   "metadata": {},
   "outputs": [
    {
     "name": "stdout",
     "output_type": "stream",
     "text": [
      "6\n"
     ]
    }
   ],
   "source": [
    "# incrementing/decrementing attribute values with methods, best programming practice\n",
    "class Dog():\n",
    "    age = 5\n",
    "    def happyBirthday(self):\n",
    "        self.age += 1\n",
    "sam = Dog()\n",
    "sam.happyBirthday() # calls method to increment value by one\n",
    "print(sam.age)      # better practice use getters, this is for testing purposes"
   ]
  },
  {
   "cell_type": "code",
   "execution_count": 15,
   "id": "3a8f0079",
   "metadata": {},
   "outputs": [
    {
     "name": "stdout",
     "output_type": "stream",
     "text": [
      "Puppy!\n"
     ]
    }
   ],
   "source": [
    "# calling a class method from another method\n",
    "class Dog():\n",
    "    age = 6\n",
    "    def getAge(self):\n",
    "        return self.age\n",
    "    def printInfo(self):\n",
    "        if self.getAge() < 10:  # need self to call other method for an instance\n",
    "            print(\"Puppy!\")\n",
    "sam = Dog()\n",
    "sam.printInfo()"
   ]
  },
  {
   "cell_type": "code",
   "execution_count": null,
   "id": "f613b5c3",
   "metadata": {},
   "outputs": [],
   "source": [
    "# using magic methods\n",
    "class Dog():\n",
    "    def __str__(self):\n",
    "        return \"This is a dog class\"\n",
    "sam = Dog()\n",
    "print(sam)  # will print the retun of the string magic method"
   ]
  },
  {
   "cell_type": "code",
   "execution_count": 2,
   "id": "2d899000",
   "metadata": {},
   "outputs": [
    {
     "name": "stdout",
     "output_type": "stream",
     "text": [
      "feline\n",
      "You are 23 years old.\n"
     ]
    }
   ],
   "source": [
    "# wednesday exercises\n",
    "# animals\n",
    "# create a class definition of an animal that has a species attribute and both a setter and getter to change or access the attributes value\n",
    "# create an instance called \"lion\"\n",
    "# and call the setter method with an argument of \"feline\"\n",
    "# then print out the species by calling the getter method\n",
    "\n",
    "class Animal:\n",
    "    def __init__(self):\n",
    "        self.species = \"\"   # instance attribute with default value\n",
    "\n",
    "    def setSpecies(self, new_species):\n",
    "        self.species = new_species\n",
    "\n",
    "    def getSpecies(self):\n",
    "        return self.species\n",
    "    \n",
    "# create the instance and set/get species\n",
    "lion = Animal()\n",
    "lion.setSpecies(\"feline\")\n",
    "print(lion.getSpecies())    # output: feline\n",
    "\n",
    "# user input\n",
    "# create a class person that takes in a name when instantiated but sets an age to 0\n",
    "# within the class definition setup\n",
    "# a setter and getter that will ask the user to input their age and set the age attribute to the value input\n",
    "# then output the information in a formatted string \"you are 64 years old\"\n",
    "# assuming the user inputs 64 as their age\n",
    "\n",
    "class Person:\n",
    "    def __init__(self, name):\n",
    "        self.name = name\n",
    "        self.age = 0    # default age\n",
    "\n",
    "    def setAge(self):\n",
    "        self.age = int(input(\"Enter your age: \"))\n",
    "\n",
    "    def getAge(self):\n",
    "        return self.age\n",
    "    \n",
    "# example usage\n",
    "person = Person(input(\"Enter your name: \"))\n",
    "person.setAge()\n",
    "print(f\"You are {person.getAge()} years old.\")\n"
   ]
  },
  {
   "cell_type": "markdown",
   "id": "9bccf1ca",
   "metadata": {},
   "source": [
    "# Chapter 7.4 Inheritance"
   ]
  },
  {
   "cell_type": "code",
   "execution_count": null,
   "id": "99ab58f9",
   "metadata": {},
   "outputs": [],
   "source": [
    "# inheriting a class and accessing the inherited method\n",
    "class Animal():\n",
    "    def makeSound(self):\n",
    "        print(\"roar\")\n",
    "class Dog(Animal):  # inheriting Animal class\n",
    "    species = \"Canine\"\n",
    "sam = Dog()\n",
    "sam.makeSound()     # accessible through inheritance\n",
    "lion = Animal()\n",
    "# lion.species      # not accessible, inheritance does not work backwards"
   ]
  },
  {
   "cell_type": "code",
   "execution_count": 1,
   "id": "c3569a1d",
   "metadata": {},
   "outputs": [
    {
     "name": "stdout",
     "output_type": "stream",
     "text": [
      "Canine\n"
     ]
    }
   ],
   "source": [
    "# using the super() method to declare inherited attributes\n",
    "class Animal():\n",
    "    def __init__(self, species):\n",
    "        self.species = species\n",
    "class Dog(Animal):\n",
    "    def __init__(self, species, name):\n",
    "        self.name = name\n",
    "        super().__init__(species)   # using super to declare the species attribute defined in Animal\n",
    "sam = Dog(\"Canine\", \"Sammi\")\n",
    "print(sam.species)"
   ]
  },
  {
   "cell_type": "code",
   "execution_count": 3,
   "id": "4bfe427e",
   "metadata": {},
   "outputs": [
    {
     "name": "stdout",
     "output_type": "stream",
     "text": [
      "roar\n",
      "roar\n"
     ]
    }
   ],
   "source": [
    "# overriding methods defined in the superclass\n",
    "class Animal():\n",
    "    def makeSound(self):\n",
    "        print(\"roar\")\n",
    "class Dog(Animal):\n",
    "    def makeSounf(self):\n",
    "        print(\"bark\")\n",
    "sam, lion = Dog(), Animal() # declaring multiple variables on a single line\n",
    "sam.makeSound()             # overriding will call the makeSound method in Dog\n",
    "lion.makeSound()            # not overriding occurs as Animal does not inherit anything"
   ]
  },
  {
   "cell_type": "code",
   "execution_count": 4,
   "id": "d7ec324e",
   "metadata": {},
   "outputs": [
    {
     "name": "stdout",
     "output_type": "stream",
     "text": [
      "9.8 Ford\n"
     ]
    }
   ],
   "source": [
    "# how to inherit multiple classes\n",
    "class Physics():\n",
    "    gravity = 9.8\n",
    "class Automobile():\n",
    "    def __init__(self, make, model, year):\n",
    "        self.make, self.model, self.year = make, model, year    # declaring all attributes on one line\n",
    "class Ford(Physics, Automobile):                                # able to access Physics and Automobile attributes and methods\n",
    "    def __init__(self, model, year):\n",
    "        Automobile.__init__(self, \"Ford\", model, year)          # super does not work with multiple\n",
    "truck = Ford(\"F-150\", 2018)\n",
    "print(truck.gravity, truck.make)                                # output both attributes"
   ]
  },
  {
   "cell_type": "code",
   "execution_count": 5,
   "id": "aa9040ce",
   "metadata": {},
   "outputs": [
    {
     "name": "stdout",
     "output_type": "stream",
     "text": [
      "Hello, my name is Max and I'm on the good guys\n",
      "Hello, my name is Tony and I'm on the bad guys\n"
     ]
    }
   ],
   "source": [
    "# thursday exercises\n",
    "# good guys/bad guys\n",
    "# create three classes\n",
    "# a superclass called \"characters\" that will be defined with the following attributes and methods\n",
    "# a. attributes: name, team, heigh, weight\n",
    "# b. methods: sayhello\n",
    "# the sayhello method should output the statement \"hello, my name is max and i'm on the good guys\"\n",
    "# the team attributes should be declared to a string of either \"good\" or \"bad\"\n",
    "# the other two classes\n",
    "# which will be subclasses\n",
    "# will be \"goodplayers\" and \"badplayers\"\n",
    "# both classes will inherit \"characters\" and super all the attributes that the superclass requires\n",
    "# the subclasses do not need any other methods or attributes\n",
    "# instantiate one player on each team\n",
    "# and call the sayhello method for each\n",
    "# the output should result in the following\n",
    "# >>> \"Hello, my name is Max and I'm on the good guys\"\n",
    "# >>> \"Hello, my name is Tony and I'm on the bad guys\"\n",
    "\n",
    "class Characters:\n",
    "    def __init__(self, name, team, height, weight):\n",
    "        self.name = name\n",
    "        self.team = team\n",
    "        self.height = height\n",
    "        self.weight = weight\n",
    "\n",
    "    def sayHello(self):\n",
    "        print(f\"Hello, my name is {self.name} and I'm on the {self.team} guys\")\n",
    "\n",
    "class GoodPlayers(Characters):\n",
    "    def __init__(self, name, height, weight):\n",
    "        super().__init__(name, \"good\", height, weight)\n",
    "\n",
    "class BadPlayers(Characters):\n",
    "    def __init__(self, name, height, weight):\n",
    "        super().__init__(name, \"bad\", height, weight)\n",
    "\n",
    "# instantiate the players\n",
    "max_player = GoodPlayers(\"Max\", 180, 75)\n",
    "tony_player = BadPlayers(\"Tony\", 175, 70)\n",
    "\n",
    "# call their greetings\n",
    "max_player.sayHello()\n",
    "tony_player.sayHello()"
   ]
  },
  {
   "cell_type": "markdown",
   "id": "e07ecfa2",
   "metadata": {},
   "source": [
    "# Chapter 7.5 Creating Blackjack"
   ]
  },
  {
   "cell_type": "code",
   "execution_count": 16,
   "id": "21406a32",
   "metadata": {},
   "outputs": [
    {
     "name": "stdout",
     "output_type": "stream",
     "text": [
      "\n",
      "xing\n",
      "==========\n",
      "A of Clubs\n",
      "Total = 20\n",
      "9 of Hearts\n",
      "Total = 20\n",
      "\n",
      "Dealer\n",
      "==========\n",
      "9 of Spades\n",
      "Total = 20\n",
      "A of Hearts\n",
      "Total = 20\n",
      "You pushed, no one wins!\n"
     ]
    }
   ],
   "source": [
    "# importing necessary functions\n",
    "from random import randint                      # allows us to get a random number\n",
    "from IPython.display import clear_output\n",
    "\n",
    "# create the blackjack class, which will hold all game methods and attributes\n",
    "class Blackjack():\n",
    "    def __init__(self):\n",
    "        self.deck = []                          # set to an empty list\n",
    "        self.suits = (\"Spades\", \"Hearts\", \"Diamonds\", \"Clubs\")\n",
    "        self.values = (2, 3, 4, 5, 6, 7, 8, 9, 10, \"J\", \"Q\", \"K\", \"A\")\n",
    "\n",
    "    # create a method that creates a deck of 52 cards, each card should be a tuple with a value and suit\n",
    "    def makeDeck(self):\n",
    "        for suit in self.suits:\n",
    "            for value in self.values:\n",
    "                self.deck.append((value, suit)) # ex: (7, \"Hearts\")\n",
    "\n",
    "    # method to pop a card from deck using a random index value\n",
    "    def pullCard(self):\n",
    "        return self.deck.pop(randint(0, len(self.deck) - 1))\n",
    "\n",
    "# create a class for the dealer and player objects\n",
    "class Player():\n",
    "    def __init__(self, name):\n",
    "        self.name = name\n",
    "        self.hand = []\n",
    "\n",
    "    # take in a tuple and append it to the hand\n",
    "    def addCard(self, card):\n",
    "        self.hand.append(card)\n",
    "\n",
    "    # if not dealer's turn then only show one of his cards, otherwise show all\n",
    "    def showHand(self, dealer_start = True):\n",
    "        print(\"\\n{}\".format(self.name))\n",
    "        print(\"==========\")\n",
    "\n",
    "        for i in range (len(self.hand)):\n",
    "            if self.name == \"Dealer\" and i == 0 and dealer_start:\n",
    "                print(\"- of -\")                 # hide first card\n",
    "            else:\n",
    "                card = self.hand[i]\n",
    "                print(\"{} of {}\".format(card[0], card[1]))\n",
    "            print(\"Total = {}\".format(self.calcHand(dealer_start)))\n",
    "\n",
    "    # if not dealer's turn then only give back total of second card\n",
    "    def calcHand(self, dealer_start = True):\n",
    "        total = 0\n",
    "        aces = 0                                # calculates aces afterwards\n",
    "        card_values = {1:1, 2:2, 3:3, 4:4, 5:5, 6:6, 7:7, 8:8, 9:9, 10:10, \"J\":10, \"Q\":10, \"K\":10, \"A\":11}\n",
    "            \n",
    "        if self.name == \"Dealer\" and dealer_start:\n",
    "            card = self.hand[1]\n",
    "            return card_values[card[0]]\n",
    "            \n",
    "        for card in self.hand:\n",
    "            if card[0] == \"A\":\n",
    "                aces += 1\n",
    "            else:\n",
    "                total += card_values[card[0]]\n",
    "            \n",
    "        for i in range(aces):\n",
    "            if total + 11 > 21:\n",
    "                total += 1\n",
    "            else:\n",
    "                total += 11\n",
    "            \n",
    "        return total\n",
    "\n",
    "game = Blackjack()\n",
    "game.makeDeck()\n",
    "\n",
    "name = input(\"What is your name?\")\n",
    "player = Player(name)\n",
    "dealer = Player(\"Dealer\")\n",
    "\n",
    "# add two cards to the dealer and player hand\n",
    "for i in range(2):\n",
    "    player.addCard(game.pullCard())\n",
    "    dealer.addCard(game.pullCard())\n",
    "\n",
    "# show both hands using method\n",
    "player.showHand()\n",
    "dealer.showHand()\n",
    "\n",
    "player_bust = False                             # variable to keep track of player going over 21\n",
    "\n",
    "while input(\"Would you like to stay or hit?\").lower() != \"stay\":\n",
    "    clear_output()\n",
    "\n",
    "    # pull card and put into player's hand\n",
    "    player.addCard(game.pullCard())\n",
    "\n",
    "    # show both hands using method\n",
    "    player.showHand()\n",
    "    dealer.showHand()\n",
    "\n",
    "    # check is over 21\n",
    "    if player.calcHand() > 21:\n",
    "        player_bust = True                      # player busterd, keep track for later\n",
    "        print(\"You lose!\")                      # remove after running correctly\n",
    "        break                                   # break out of the player's loop\n",
    "\n",
    "# handling the dealer's turn, only run if player didn't bust\n",
    "dealer_bust = False\n",
    "\n",
    "if not player_bust:\n",
    "    while dealer.calcHand(False) < 17:          # pass False to calculate all cards\n",
    "        # pull card and put into player's hand\n",
    "        dealer.addCard(game.pullCard())\n",
    "\n",
    "        # check if over 21\n",
    "        if dealer.calcHand(False) > 21:         # pass False to calculate all cards\n",
    "            dealer_bust = True\n",
    "            break\n",
    "\n",
    "clear_output()\n",
    "\n",
    "# show both hands using method\n",
    "player.showHand()\n",
    "dealer.showHand(False)                          # pass False to calculate and show all cards, even when there are 2\n",
    "\n",
    "# calculate a winner\n",
    "if player_bust:\n",
    "    print(\"You busted, better luck next time!\")\n",
    "elif dealer_bust:\n",
    "    print(\"The dealer busted, you win!\")\n",
    "elif dealer.calcHand(False) > player.calcHand():\n",
    "    print(\"Dealer has higher cards, you lose!\")\n",
    "elif dealer.calcHand(False) < player.calcHand():\n",
    "    print(\"You beat the dealer! Congrats!\")\n",
    "else:\n",
    "    print(\"You pushed, no one wins!\")"
   ]
  },
  {
   "cell_type": "markdown",
   "id": "b57d5c9b",
   "metadata": {},
   "source": [
    "# Weekly Summary"
   ]
  },
  {
   "cell_type": "code",
   "execution_count": 17,
   "id": "6d3567e2",
   "metadata": {},
   "outputs": [
    {
     "name": "stdout",
     "output_type": "stream",
     "text": [
      "\n",
      "xing\n",
      "==========\n",
      "4 of Hearts\n",
      "Total = 23\n",
      "Q of Diamonds\n",
      "Total = 23\n",
      "A of Diamonds\n",
      "Total = 23\n",
      "8 of Spades\n",
      "Total = 23\n",
      "\n",
      "Dealer\n",
      "==========\n",
      "J of Clubs\n",
      "Total = 17\n",
      "7 of Diamonds\n",
      "Total = 17\n",
      "You busted, better luck next time!\n"
     ]
    }
   ],
   "source": [
    "# game loop\n",
    "# using the code from our friday project\n",
    "# create a game loop so that you can continually play a new hand until the player decides to quit\n",
    "# the cell should only stop running if the player types in \"quit\"\n",
    "# otherwise\n",
    "# you should continue to play new hands\n",
    "\n",
    "# importing necessary functions\n",
    "from random import randint                      # allows us to get a random number\n",
    "from IPython.display import clear_output\n",
    "\n",
    "# create the blackjack class, which will hold all game methods and attributes\n",
    "class Blackjack():\n",
    "    def __init__(self):\n",
    "        self.deck = []                          # set to an empty list\n",
    "        self.suits = (\"Spades\", \"Hearts\", \"Diamonds\", \"Clubs\")\n",
    "        self.values = (2, 3, 4, 5, 6, 7, 8, 9, 10, \"J\", \"Q\", \"K\", \"A\")\n",
    "\n",
    "    # create a method that creates a deck of 52 cards, each card should be a tuple with a value and suit\n",
    "    def makeDeck(self):\n",
    "        for suit in self.suits:\n",
    "            for value in self.values:\n",
    "                self.deck.append((value, suit)) # ex: (7, \"Hearts\")\n",
    "\n",
    "    # method to pop a card from deck using a random index value\n",
    "    def pullCard(self):\n",
    "        return self.deck.pop(randint(0, len(self.deck) - 1))\n",
    "\n",
    "# create a class for the dealer and player objects\n",
    "class Player():\n",
    "    def __init__(self, name):\n",
    "        self.name = name\n",
    "        self.hand = []\n",
    "\n",
    "    # take in a tuple and append it to the hand\n",
    "    def addCard(self, card):\n",
    "        self.hand.append(card)\n",
    "\n",
    "    # if not dealer's turn then only show one of his cards, otherwise show all\n",
    "    def showHand(self, dealer_start = True):\n",
    "        print(\"\\n{}\".format(self.name))\n",
    "        print(\"==========\")\n",
    "\n",
    "        for i in range (len(self.hand)):\n",
    "            if self.name == \"Dealer\" and i == 0 and dealer_start:\n",
    "                print(\"- of -\")                 # hide first card\n",
    "            else:\n",
    "                card = self.hand[i]\n",
    "                print(\"{} of {}\".format(card[0], card[1]))\n",
    "            print(\"Total = {}\".format(self.calcHand(dealer_start)))\n",
    "\n",
    "    # if not dealer's turn then only give back total of second card\n",
    "    def calcHand(self, dealer_start = True):\n",
    "        total = 0\n",
    "        aces = 0                                # calculates aces afterwards\n",
    "        card_values = {1:1, 2:2, 3:3, 4:4, 5:5, 6:6, 7:7, 8:8, 9:9, 10:10, \"J\":10, \"Q\":10, \"K\":10, \"A\":11}\n",
    "            \n",
    "        if self.name == \"Dealer\" and dealer_start:\n",
    "            card = self.hand[1]\n",
    "            return card_values[card[0]]\n",
    "            \n",
    "        for card in self.hand:\n",
    "            if card[0] == \"A\":\n",
    "                aces += 1\n",
    "            else:\n",
    "                total += card_values[card[0]]\n",
    "            \n",
    "        for i in range(aces):\n",
    "            if total + 11 > 21:\n",
    "                total += 1\n",
    "            else:\n",
    "                total += 11\n",
    "            \n",
    "        return total\n",
    "    \n",
    "name = input(\"What is your name?\")\n",
    "player = Player(name)\n",
    "dealer = Player(\"Dealer\")\n",
    "\n",
    "while True:\n",
    "    # ask to play or quit\n",
    "    if input (\"Type 'quit' to exit, or press ENTER to play: \").lower() == \"quit\":\n",
    "        break\n",
    "\n",
    "    clear_output()\n",
    "    game = Blackjack()\n",
    "    game.makeDeck()\n",
    "\n",
    "    player.hand = []\n",
    "    dealer.hand = []\n",
    "\n",
    "    # add two cards to the dealer and player hand\n",
    "    for i in range(2):\n",
    "        player.addCard(game.pullCard())\n",
    "        dealer.addCard(game.pullCard())\n",
    "\n",
    "    # show both hands using method\n",
    "    player.showHand()\n",
    "    dealer.showHand()\n",
    "\n",
    "    player_bust = False                          # variable to keep track of player going over 21\n",
    "\n",
    "    while input(\"Would you like to stay or hit?\").lower() != \"stay\":\n",
    "        clear_output()\n",
    "\n",
    "        # pull card and put into player's hand\n",
    "        player.addCard(game.pullCard())\n",
    "\n",
    "        # show both hands using method\n",
    "        player.showHand()\n",
    "        dealer.showHand()\n",
    "\n",
    "        # check is over 21\n",
    "        if player.calcHand() > 21:\n",
    "            player_bust = True                   # player busterd, keep track for later\n",
    "            print(\"You lose!\")                   # remove after running correctly\n",
    "            break                                # break out of the player's loop\n",
    "\n",
    "    # handling the dealer's turn, only run if player didn't bust\n",
    "    dealer_bust = False\n",
    "\n",
    "    if not player_bust:\n",
    "        while dealer.calcHand(False) < 17:       # pass False to calculate all cards\n",
    "            # pull card and put into player's hand\n",
    "            dealer.addCard(game.pullCard())\n",
    "\n",
    "            # check if over 21\n",
    "            if dealer.calcHand(False) > 21:      # pass False to calculate all cards\n",
    "                dealer_bust = True\n",
    "                break\n",
    "\n",
    "    clear_output()\n",
    "\n",
    "    # show both hands using method\n",
    "    player.showHand()\n",
    "    dealer.showHand(False)                       # pass False to calculate and show all cards, even when there are 2\n",
    "\n",
    "    # calculate a winner\n",
    "    if player_bust:\n",
    "        print(\"You busted, better luck next time!\")\n",
    "    elif dealer_bust:\n",
    "        print(\"The dealer busted, you win!\")\n",
    "    elif dealer.calcHand(False) > player.calcHand():\n",
    "        print(\"Dealer has higher cards, you lose!\")\n",
    "    elif dealer.calcHand(False) < player.calcHand():\n",
    "        print(\"You beat the dealer! Congrats!\")\n",
    "    else:\n",
    "        print(\"You pushed, no one wins!\")"
   ]
  },
  {
   "cell_type": "code",
   "execution_count": 29,
   "id": "558ded6c",
   "metadata": {},
   "outputs": [
    {
     "name": "stdout",
     "output_type": "stream",
     "text": [
      "\n",
      "Xing\n",
      "==========\n",
      "9 of Diamonds\n",
      "7 of Spades\n",
      "Q of Clubs\n",
      "Total = 26\n",
      "\n",
      "Dealer\n",
      "==========\n",
      "2 of Hearts\n",
      "10 of Spades\n",
      "Total = 12\n",
      "You busted, better luck next time!\n",
      "You have $0\n",
      "Invalid wager. Try again.\n",
      "You have $0\n",
      "Invalid wager. Try again.\n",
      "You have $0\n"
     ]
    }
   ],
   "source": [
    "# adding currency\n",
    "# using the code from our friday project\n",
    "# add the ability to wager currency in the game\n",
    "# be sure to track the currency within the player class\n",
    "# as the attribute should belong to that object\n",
    "# before each hand\n",
    "# ask the user how much they would like to wager\n",
    "# if they win\n",
    "# add that amount to their currency\n",
    "# if they lose\n",
    "# subtract that amount from what they currently have\n",
    "# and if they tie\n",
    "# nothing should happen\n",
    "\n",
    "# importing necessary functions\n",
    "from random import randint                      # allows us to get a random number\n",
    "from IPython.display import clear_output\n",
    "\n",
    "# create the blackjack class, which will hold all game methods and attributes\n",
    "class Blackjack():\n",
    "    def __init__(self):\n",
    "        self.deck = []                          # set to an empty list\n",
    "        self.suits = (\"Spades\", \"Hearts\", \"Diamonds\", \"Clubs\")\n",
    "        self.values = (2, 3, 4, 5, 6, 7, 8, 9, 10, \"J\", \"Q\", \"K\", \"A\")\n",
    "\n",
    "    # create a method that creates a deck of 52 cards, each card should be a tuple with a value and suit\n",
    "    def makeDeck(self):\n",
    "        for suit in self.suits:\n",
    "            for value in self.values:\n",
    "                self.deck.append((value, suit)) # ex: (7, \"Hearts\")\n",
    "\n",
    "    # method to pop a card from deck using a random index value\n",
    "    def pullCard(self):\n",
    "        return self.deck.pop(randint(0, len(self.deck) - 1))\n",
    "\n",
    "# create a class for the dealer and player objects\n",
    "class Player():\n",
    "    def __init__(self, name):\n",
    "        self.name = name\n",
    "        self.hand = []\n",
    "        self.currency = 100                     # starting currency\n",
    "\n",
    "    # take in a tuple and append it to the hand\n",
    "    def addCard(self, card):\n",
    "        self.hand.append(card)\n",
    "\n",
    "    # if not dealer's turn then only show one of his cards, otherwise show all\n",
    "    def showHand(self, dealer_start = True):\n",
    "        print(\"\\n{}\".format(self.name))\n",
    "        print(\"==========\")\n",
    "\n",
    "        for i in range (len(self.hand)):\n",
    "            if self.name == \"Dealer\" and i == 0 and dealer_start:\n",
    "                print(\"- of -\")                 # hide first card\n",
    "            else:\n",
    "                card = self.hand[i]\n",
    "                print(\"{} of {}\".format(card[0], card[1]))\n",
    "                \n",
    "        print(\"Total = {}\".format(self.calcHand(dealer_start)))\n",
    "\n",
    "    # if not dealer's turn then only give back total of second card\n",
    "    def calcHand(self, dealer_start = True):\n",
    "        total = 0\n",
    "        aces = 0                                # calculates aces afterwards\n",
    "        card_values = {1:1, 2:2, 3:3, 4:4, 5:5, 6:6, 7:7, 8:8, 9:9, 10:10, \"J\":10, \"Q\":10, \"K\":10, \"A\":11}\n",
    "            \n",
    "        if self.name == \"Dealer\" and dealer_start:\n",
    "            card = self.hand[1]\n",
    "            return card_values[card[0]]\n",
    "            \n",
    "        for card in self.hand:\n",
    "            if card[0] == \"A\":\n",
    "                aces += 1\n",
    "            else:\n",
    "                total += card_values[card[0]]\n",
    "            \n",
    "        for i in range(aces):\n",
    "            if total + 11 > 21:\n",
    "                total += 1\n",
    "            else:\n",
    "                total += 11\n",
    "            \n",
    "        return total\n",
    "    \n",
    "name = input(\"What is your name?\")\n",
    "player = Player(name)\n",
    "dealer = Player(\"Dealer\")\n",
    "\n",
    "while True:    \n",
    "    # show player's current balance and ask for a wager\n",
    "    print(f\"You have ${player.currency}\")\n",
    "    wager = input(\"Enter your wager (or type 'quit to exit): \")\n",
    "\n",
    "    if wager.lower() == \"quit\":\n",
    "        break\n",
    "\n",
    "    if not wager.isdigit() or int(wager) <= 0 or int(wager) > player.currency:\n",
    "        print(\"Invalid wager. Try again.\")\n",
    "        continue\n",
    "\n",
    "    wager = int(wager)\n",
    "\n",
    "    clear_output()\n",
    "\n",
    "    game = Blackjack()\n",
    "    game.makeDeck()\n",
    "\n",
    "    player.hand = []\n",
    "    dealer.hand = []\n",
    "\n",
    "    # add two cards to the dealer and player hand\n",
    "    for i in range(2):\n",
    "        player.addCard(game.pullCard())\n",
    "        dealer.addCard(game.pullCard())\n",
    "\n",
    "    # show both hands using method\n",
    "    player.showHand()\n",
    "    dealer.showHand()\n",
    "\n",
    "    player_bust = False                          # variable to keep track of player going over 21\n",
    "\n",
    "    while input(\"Would you like to stay or hit?\").lower() != \"stay\":\n",
    "        clear_output()\n",
    "\n",
    "        # pull card and put into player's hand\n",
    "        player.addCard(game.pullCard())\n",
    "\n",
    "        # show both hands using method\n",
    "        player.showHand()\n",
    "        dealer.showHand()\n",
    "\n",
    "        # check is over 21\n",
    "        if player.calcHand() > 21:\n",
    "            player_bust = True                   # player busterd, keep track for later\n",
    "            break                                # break out of the player's loop\n",
    "\n",
    "    # handling the dealer's turn, only run if player didn't bust\n",
    "    dealer_bust = False\n",
    "\n",
    "    if not player_bust:\n",
    "        while dealer.calcHand(False) < 17:       # pass False to calculate all cards\n",
    "            # pull card and put into player's hand\n",
    "            dealer.addCard(game.pullCard())\n",
    "\n",
    "            # check if over 21\n",
    "            if dealer.calcHand(False) > 21:      # pass False to calculate all cards\n",
    "                dealer_bust = True\n",
    "                break\n",
    "\n",
    "    # show both hands using method\n",
    "    clear_output()\n",
    "    player.showHand()\n",
    "    dealer.showHand(False)                       # pass False to calculate and show all cards, even when there are 2\n",
    "\n",
    "    # calculate a winner\n",
    "    if player_bust:\n",
    "        player.currency -= wager\n",
    "        print(\"You busted, better luck next time!\")\n",
    "    elif dealer_bust:\n",
    "        player.currency += wager\n",
    "        print(\"The dealer busted, you win!\")\n",
    "    elif dealer.calcHand(False) > player.calcHand():\n",
    "        player.currency -= wager\n",
    "        print(\"Dealer has higher cards, you lose!\")\n",
    "    elif dealer.calcHand(False) < player.calcHand():\n",
    "        player.currency += wager\n",
    "        print(\"You beat the dealer! Congrats!\")\n",
    "    else:\n",
    "        print(\"You pushed, no one wins!\")       # no change in currency\n",
    "\n",
    "    input(\"\\nPress ENTER to continue...\")"
   ]
  }
 ],
 "metadata": {
  "kernelspec": {
   "display_name": "bootcamp",
   "language": "python",
   "name": "python3"
  },
  "language_info": {
   "codemirror_mode": {
    "name": "ipython",
    "version": 3
   },
   "file_extension": ".py",
   "mimetype": "text/x-python",
   "name": "python",
   "nbconvert_exporter": "python",
   "pygments_lexer": "ipython3",
   "version": "3.10.16"
  }
 },
 "nbformat": 4,
 "nbformat_minor": 5
}
