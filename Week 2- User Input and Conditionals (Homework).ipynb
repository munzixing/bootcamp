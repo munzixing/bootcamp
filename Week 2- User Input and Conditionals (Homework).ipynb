{
 "cells": [
  {
   "cell_type": "markdown",
   "metadata": {},
   "source": [
    "# Chapter 3.1 User Input and Type Converting"
   ]
  },
  {
   "cell_type": "code",
   "execution_count": 2,
   "metadata": {},
   "outputs": [
    {
     "name": "stdout",
     "output_type": "stream",
     "text": [
      "xing\n"
     ]
    }
   ],
   "source": [
    "#accepting and outputing user input\n",
    "print(input(\"What is your name?\"))"
   ]
  },
  {
   "cell_type": "code",
   "execution_count": 4,
   "metadata": {},
   "outputs": [
    {
     "name": "stdout",
     "output_type": "stream",
     "text": [
      "Hello xing!\n"
     ]
    }
   ],
   "source": [
    "# saving what the user inputs\n",
    "ans = input(\"What is your name?\")\n",
    "print(\"Hello {}!\".format(ans))"
   ]
  },
  {
   "cell_type": "code",
   "execution_count": 5,
   "metadata": {},
   "outputs": [
    {
     "name": "stdout",
     "output_type": "stream",
     "text": [
      "<class 'int'>\n"
     ]
    }
   ],
   "source": [
    "# how to check the data type of a variable\n",
    "num = 5\n",
    "print(type(num))"
   ]
  },
  {
   "cell_type": "code",
   "execution_count": 6,
   "metadata": {},
   "outputs": [
    {
     "name": "stdout",
     "output_type": "stream",
     "text": [
      "<class 'int'>\n"
     ]
    }
   ],
   "source": [
    "# converting a variable from one data type to another\n",
    "num = \"9\"\n",
    "num = int(num)      # re-declaring num to store an integer\n",
    "print(type(num))    # checking type to make sure conversion worked"
   ]
  },
  {
   "cell_type": "code",
   "execution_count": 7,
   "metadata": {},
   "outputs": [
    {
     "name": "stdout",
     "output_type": "stream",
     "text": [
      "<class 'str'>\n",
      "100 + 9 = 109\n"
     ]
    }
   ],
   "source": [
    "# working with user input to perform calculations\n",
    "ans = input(\"Type a number to add: \")\n",
    "print(type(ans))    # default type is string, must convert\n",
    "result = 100 + int(ans)\n",
    "print(\"100 + {} = {}\".format(ans, result))"
   ]
  },
  {
   "cell_type": "code",
   "execution_count": 10,
   "metadata": {},
   "outputs": [
    {
     "name": "stdout",
     "output_type": "stream",
     "text": [
      "100 + 36.0 = 136.0\n",
      "The program did not break!\n"
     ]
    }
   ],
   "source": [
    "# using the try and except blocks, use tab to indent where necessary\n",
    "try:\n",
    "    ans = float(input(\"Type a number to add: \"))\n",
    "    print(\"100 + {} = {}\".format(ans, 100 + ans))\n",
    "except:\n",
    "    print(\"You did not put in a valid number!\")\n",
    "# without try/except print statement would not get hit if error occurs\n",
    "print(\"The program did not break!\")        \n"
   ]
  },
  {
   "cell_type": "code",
   "execution_count": 14,
   "metadata": {},
   "outputs": [
    {
     "name": "stdout",
     "output_type": "stream",
     "text": [
      "<class 'bool'>\n",
      "20 + 20 = 40\n",
      "2018 Blue Chevrolet Silverado\n"
     ]
    }
   ],
   "source": [
    "# monday exercises\n",
    "# converting\n",
    "# try converting a string of \"True\" to a boolean, and then output its type to make sure it converted properly.\n",
    "str = \"True\"\n",
    "str = bool(str)\n",
    "print(type(str))\n",
    "# sum of inputs\n",
    "# create two input statements, and ask the user to enter two numbers.\n",
    "# print the sum of these numbers out.\n",
    "num1 = input(\"Type first number to add: \")\n",
    "num2 = input(\"Type second number to add: \")\n",
    "result = int(num1) + int(num2)\n",
    "print(\"{} + {} = {}\".format(num1, num2, result))\n",
    "# car information\n",
    "# ask the user to input the year, make, model, and color of their car, and print a nicely formatted statement like \"2018 Blue Chevloret Silverado\"\n",
    "year = input(\"Type year of car: \")\n",
    "make = input(\"Type make of car: \")\n",
    "model = input(\"Type model of car: \")\n",
    "color = input(\"Type color of car: \")\n",
    "print(\"{} {} {} {}\".format(year, color, make, model))"
   ]
  },
  {
   "cell_type": "markdown",
   "metadata": {},
   "source": [
    "# Chapter 3.2 Tuesday: If Statements"
   ]
  },
  {
   "cell_type": "code",
   "execution_count": 15,
   "metadata": {},
   "outputs": [
    {
     "name": "stdout",
     "output_type": "stream",
     "text": [
      "x is less than y\n"
     ]
    }
   ],
   "source": [
    "# using an if statement to only run code if the condition is met\n",
    "x, y = 5, 10\n",
    "if x < y:\n",
    "    print(\"x is less than y\")"
   ]
  },
  {
   "cell_type": "code",
   "execution_count": 16,
   "metadata": {},
   "outputs": [
    {
     "name": "stdout",
     "output_type": "stream",
     "text": [
      "You got it right!\n"
     ]
    }
   ],
   "source": [
    "# checking user input\n",
    "ans = int(input(\"What is 5 + 5?\"))\n",
    "if ans == 10:\n",
    "    print(\"You got it right!\")"
   ]
  },
  {
   "cell_type": "code",
   "execution_count": 17,
   "metadata": {},
   "outputs": [
    {
     "name": "stdout",
     "output_type": "stream",
     "text": [
      "Both statements were true\n"
     ]
    }
   ],
   "source": [
    "# using the keyword 'and' in an 'if statement'\n",
    "x, y, z = 5, 10, 5\n",
    "if x < y and x == z:\n",
    "    print(\"Both statements were true\")"
   ]
  },
  {
   "cell_type": "code",
   "execution_count": 18,
   "metadata": {},
   "outputs": [
    {
     "name": "stdout",
     "output_type": "stream",
     "text": [
      "Flag is False\n"
     ]
    }
   ],
   "source": [
    "# using the keyword 'not' within an 'if statement'\n",
    "flag = False\n",
    "if not flag:    # same as saying if not true\n",
    "    print(\"Flag is False\")"
   ]
  },
  {
   "cell_type": "code",
   "execution_count": 19,
   "metadata": {},
   "outputs": [
    {
     "name": "stdout",
     "output_type": "stream",
     "text": [
      "Baseball contains the character b\n"
     ]
    }
   ],
   "source": [
    "# using the keyword 'in' within an 'if statement'\n",
    "word = \"Baseball\"\n",
    "if \"b\" in word:\n",
    "    print(\"{} contains the character b\".format(word))"
   ]
  },
  {
   "cell_type": "code",
   "execution_count": 20,
   "metadata": {},
   "outputs": [
    {
     "name": "stdout",
     "output_type": "stream",
     "text": [
      "Baseball does not contain the character x\n"
     ]
    }
   ],
   "source": [
    "# using the keyword 'not in' within an 'if statement'\n",
    "word = \"Baseball\"\n",
    "if \"x\" not in word:\n",
    "    print(\"{} does not contain the character x\".format(word))"
   ]
  },
  {
   "cell_type": "code",
   "execution_count": 22,
   "metadata": {},
   "outputs": [
    {
     "name": "stdout",
     "output_type": "stream",
     "text": [
      "escape contains 'es'\n",
      "texting ends with 'ing'\n",
      "PYTHON and python are the same (case insensitive)\n",
      "Squared:  16\n"
     ]
    }
   ],
   "source": [
    "# tuesday exercises\n",
    "# checking inclusion - part 1\n",
    "# ask the user for input, and check to see if what they wrote includes an \"es\"\n",
    "word = input(\"Type word: \")\n",
    "if \"es\" in word:\n",
    "    print(\"{} contains 'es'\".format(word))\n",
    "# checking inclusion - part 2\n",
    "# ask the user for input, and check to see if what they wrote has an \"ing\" at the end.\n",
    "# hint: use slicing\n",
    "word = input(\"Type word: \")\n",
    "if word[-3:] == \"ing\":\n",
    "    print(\"{} ends with 'ing'\".format(word))\n",
    "# checking equality\n",
    "# ask the user to input two words, and write a conditional statement to check if both words are the same.\n",
    "# make it case insensitive so that capitals do not matter.\n",
    "word1 = input(\"Enter first word: \")\n",
    "word2 = input(\"Enter second word: \")\n",
    "if word1.lower() == word2.lower():\n",
    "    print(\"{} and {} are the same (case insensitive)\".format(word1, word2))\n",
    "# returning exponents\n",
    "# ask for the user to input a number, and return that number squared if it is lower than 10.\n",
    "# hint: investigate arithmetic expressions for exponents.\n",
    "num = int(input(\"Enter a number: \"))\n",
    "if num < 10:\n",
    "    print(\"Squared: \", num ** 2)\n"
   ]
  },
  {
   "cell_type": "markdown",
   "metadata": {},
   "source": [
    "# Chapter 3.3 Elif Statements"
   ]
  },
  {
   "cell_type": "code",
   "execution_count": 23,
   "metadata": {},
   "outputs": [
    {
     "name": "stdout",
     "output_type": "stream",
     "text": [
      "x is less\n"
     ]
    }
   ],
   "source": [
    "# using the elif conditional statement\n",
    "x, y = 5, 10\n",
    "if x > y:\n",
    "    print(\"x is greater\")\n",
    "elif x < y:\n",
    "    print(\"x is less\")"
   ]
  },
  {
   "cell_type": "code",
   "execution_count": 24,
   "metadata": {},
   "outputs": [
    {
     "name": "stdout",
     "output_type": "stream",
     "text": [
      "equal\n"
     ]
    }
   ],
   "source": [
    "# checking more than one elif conditional statement\n",
    "x, y = 5, 10\n",
    "if x > y:\n",
    "    print (\"x is greater\")\n",
    "elif (x + 10) < y:  # checking if 15 is less than 10\n",
    "    print(\"x is less\")\n",
    "elif (x + 5) == y:\n",
    "    print(\"equal\")  # checking if 10 is equal to 10"
   ]
  },
  {
   "cell_type": "code",
   "execution_count": 25,
   "metadata": {},
   "outputs": [
    {
     "name": "stdout",
     "output_type": "stream",
     "text": [
      "x is equal to z\n"
     ]
    }
   ],
   "source": [
    "# writing multiple conditionals within each other - multiple block levels\n",
    "x, y, z = 5, 10, 5\n",
    "if x > y:\n",
    "    print(\"greater\")\n",
    "elif x <= y:\n",
    "    if x == z:\n",
    "        print(\"x is equal to z\")        # resulting output\n",
    "    elif x != z:\n",
    "        print(\"x is not equal to z\")    # won't get hit"
   ]
  },
  {
   "cell_type": "code",
   "execution_count": 27,
   "metadata": {},
   "outputs": [
    {
     "name": "stdout",
     "output_type": "stream",
     "text": [
      "x is less\n",
      "x is equal\n"
     ]
    }
   ],
   "source": [
    "# testing putput of two if statements in a row that are both true\n",
    "x, y, z = 5, 10, 5\n",
    "if x < y:\n",
    "    print(\"x is less\")\n",
    "if x == z:\n",
    "    print(\"x is equal\")"
   ]
  },
  {
   "cell_type": "code",
   "execution_count": 28,
   "metadata": {},
   "outputs": [
    {
     "name": "stdout",
     "output_type": "stream",
     "text": [
      "x is less\n"
     ]
    }
   ],
   "source": [
    "# testing output of an if and elif statement that are both true\n",
    "x, y, z = 5, 10, 5\n",
    "if x < y:\n",
    "    print(\"x is less\")\n",
    "elif x == z:\n",
    "    print(\"x is equal to z\")"
   ]
  },
  {
   "cell_type": "code",
   "execution_count": 29,
   "metadata": {},
   "outputs": [
    {
     "name": "stdout",
     "output_type": "stream",
     "text": [
      "20 is lower than 100\n",
      "lower\n"
     ]
    }
   ],
   "source": [
    "# wednesday exercises\n",
    "# higher/lower\n",
    "# ask the use to input a number\n",
    "# type convert that number, and use an if/elif statement to print whether it's higher or lower than 100.\n",
    "num = int(input(\"Enter a number: \"))\n",
    "if num > 100:\n",
    "    print(\"{} is higher than 100\".format(num))\n",
    "elif num < 100:\n",
    "    print(\"{} is lower than 100\".format(num))\n",
    "# find the solution\n",
    "# given the following code, fix any/all errors in order to make it output \"lower\":\n",
    "x, y = 5, 10\n",
    "if x > y:\n",
    "    print(\"greater\")\n",
    "elif x < y:\n",
    "    print(\"lower\")"
   ]
  },
  {
   "cell_type": "markdown",
   "metadata": {},
   "source": [
    "# Chapter 3.4 Else Statements"
   ]
  },
  {
   "cell_type": "code",
   "execution_count": 31,
   "metadata": {},
   "outputs": [
    {
     "name": "stdout",
     "output_type": "stream",
     "text": [
      "Hello John!\n"
     ]
    }
   ],
   "source": [
    "# using an else statement\n",
    "name = \"John\"\n",
    "if name == \"Jacob\":\n",
    "    print(\"Hello Jacob!\")\n",
    "else:\n",
    "    print(\"Hello {}!\".format(name))"
   ]
  },
  {
   "cell_type": "code",
   "execution_count": 33,
   "metadata": {},
   "outputs": [
    {
     "name": "stdout",
     "output_type": "stream",
     "text": [
      "Name starts with a J\n"
     ]
    }
   ],
   "source": [
    "# writing a full contional statement\n",
    "name = \"John\"\n",
    "if name[0] == \"A\":\n",
    "    print(\"Name starts with an A\")\n",
    "elif name[0] == \"B\":\n",
    "    print(\"Name starts with a B\")\n",
    "elif name[0] == \"J\":\n",
    "    print(\"Name starts with a J\")\n",
    "else:   # covers all other possibilities\n",
    "    print(\"Name starts with a {}\".format(name[0]))"
   ]
  },
  {
   "cell_type": "code",
   "execution_count": 36,
   "metadata": {},
   "outputs": [
    {
     "name": "stdout",
     "output_type": "stream",
     "text": [
      "Hello John\n",
      "Good afternoon\n"
     ]
    }
   ],
   "source": [
    "# thursday exercises\n",
    "# fix the errors\n",
    "# given the following code, fix any/all errors so that it outputs \"Hello John\" correctly:\n",
    "# >>> name = \"John\"\n",
    "# >>> if name == \"Jack\":\n",
    "# >>>   print(\"Hello Jack\")\n",
    "# >>> elif:\n",
    "# >>>   print(\"Hello John\")\n",
    "name = \"John\"\n",
    "if name == \"Jack\":\n",
    "    print(\"Hello Jack\")\n",
    "elif name == \"John\":\n",
    "    print(\"Hello John\")\n",
    "# user input\n",
    "# ask the user to input the time of day in military time without a colon (1100 = 11:00 AM).\n",
    "# write a conditional statement so that it outputs the following:\n",
    "# a. \"Good morning\" if less than 1200\n",
    "# b. \"Good afternoon\" if between 1200 and 1700\n",
    "# c. \"Good evening\" if equal or above 1700\n",
    "time = int(input(\"Enter the time in military format (e.g. 1100 for 11:00 AM: \"))\n",
    "if time < 1200:\n",
    "    print(\"Good morning\")\n",
    "elif time < 1700:\n",
    "    print(\"Good afternoon\")\n",
    "else:\n",
    "    print(\"Good evening\")"
   ]
  },
  {
   "cell_type": "markdown",
   "metadata": {},
   "source": [
    "# Chapter 3.5 Creating a Calculator"
   ]
  },
  {
   "cell_type": "code",
   "execution_count": 37,
   "metadata": {},
   "outputs": [
    {
     "name": "stdout",
     "output_type": "stream",
     "text": [
      "You chose add.\n"
     ]
    }
   ],
   "source": [
    "# step 1: ask user for calculation to be performed\n",
    "operation = input(\"Would you like to add/subtract/multiply/divide?\").lower()\n",
    "print(\"You chose {}.\".format(operation))    # for testing purposes"
   ]
  },
  {
   "cell_type": "code",
   "execution_count": 38,
   "metadata": {},
   "outputs": [
    {
     "name": "stdout",
     "output_type": "stream",
     "text": [
      "First Number: 36\n",
      "Second Number: 63\n"
     ]
    }
   ],
   "source": [
    "# step 2: ask for numbers, alert order matters for substracting and dividing\n",
    "if operation == \"subtract\" or operation == \"divide\":\n",
    "    print(\"You chose {}.\".format(operation))\n",
    "    print(\"Please keep in mind that the order of your numbers matter.\")\n",
    "num1 = input(\"What is the first number?\")\n",
    "num2 = input(\"What is the second number?\")\n",
    "print(\"First Number: {}\".format(num1))  # for testing purposes\n",
    "print(\"Second Number: {}\".format(num2)) # for testing purposes"
   ]
  },
  {
   "cell_type": "code",
   "execution_count": 39,
   "metadata": {},
   "outputs": [
    {
     "name": "stdout",
     "output_type": "stream",
     "text": [
      "36.0 + 63.0 = 99.0\n"
     ]
    }
   ],
   "source": [
    "# step 3: setup try/except for mathematical operation\n",
    "try:\n",
    "    # step 3a: immediately to try to convert numbers input to floats\n",
    "    num1, num2 = float(num1), float(num2)\n",
    "    # step 3b: perform operation and print result\n",
    "    if operation == \"add\":\n",
    "        result = num1 + num2\n",
    "        print(\"{} + {} = {}\".format(num1, num2, result))\n",
    "    elif operation == \"subtract\":\n",
    "        result = num1 - num2\n",
    "        print(\"{} - {} = {}\".format(num1, num2, result))\n",
    "    elif operation == \"multiply\":\n",
    "        result = num1 * num2\n",
    "        print(\"{} * {} = {}\".format(num1, num2, result))\n",
    "    elif operation == \"divide\":\n",
    "        result = num1 / num2\n",
    "        print(\"{} / {} = {}\".format(num1, num2, result))\n",
    "    else:\n",
    "        # else will be hit if they didn't chose an option correctly\n",
    "        print (\"Sorry, but '{}' is not an option.\".format(operation))\n",
    "except:\n",
    "    # step 3c: print error\n",
    "    print(\"Error: Improper numbers used. Please try again.\")"
   ]
  },
  {
   "cell_type": "code",
   "execution_count": 41,
   "metadata": {},
   "outputs": [
    {
     "name": "stdout",
     "output_type": "stream",
     "text": [
      "You chose multiply.\n",
      "First Number: 2\n",
      "Second Number: 3\n",
      "2.0 * 3.0 = 6.0\n"
     ]
    }
   ],
   "source": [
    "# step 1: ask user for calculation to be performed\n",
    "operation = input(\"Would you like to add/subtract/multiply/divide?\").lower()\n",
    "print(\"You chose {}.\".format(operation))    \n",
    "# step 2: ask for numbers, alert order matters for substracting and dividing\n",
    "if operation == \"subtract\" or operation == \"divide\":\n",
    "    print(\"You chose {}.\".format(operation))\n",
    "    print(\"Please keep in mind that the order of your numbers matter.\")\n",
    "num1 = input(\"What is the first number?\")\n",
    "num2 = input(\"What is the second number?\")\n",
    "print(\"First Number: {}\".format(num1))  \n",
    "print(\"Second Number: {}\".format(num2)) \n",
    "# step 3: setup try/except for mathematical operation\n",
    "try:\n",
    "    # step 3a: immediately to try to convert numbers input to floats\n",
    "    num1, num2 = float(num1), float(num2)\n",
    "    # step 3b: perform operation and print result\n",
    "    if operation == \"add\":\n",
    "        result = num1 + num2\n",
    "        print(\"{} + {} = {}\".format(num1, num2, result))\n",
    "    elif operation == \"subtract\":\n",
    "        result = num1 - num2\n",
    "        print(\"{} - {} = {}\".format(num1, num2, result))\n",
    "    elif operation == \"multiply\":\n",
    "        result = num1 * num2\n",
    "        print(\"{} * {} = {}\".format(num1, num2, result))\n",
    "    elif operation == \"divide\":\n",
    "        result = num1 / num2\n",
    "        print(\"{} / {} = {}\".format(num1, num2, result))\n",
    "    else:\n",
    "        # else will be hit if they didn't chose an option correctly\n",
    "        print (\"Sorry, but '{}' is not an option.\".format(operation))\n",
    "except:\n",
    "    # step 3c: print error\n",
    "    print(\"Error: Improper numbers used. Please try again.\")"
   ]
  },
  {
   "cell_type": "markdown",
   "metadata": {},
   "source": [
    "# Weekly Challenges"
   ]
  },
  {
   "cell_type": "code",
   "execution_count": 42,
   "metadata": {},
   "outputs": [
    {
     "name": "stdout",
     "output_type": "stream",
     "text": [
      "You chose subtract.\n",
      "You chose subtract.\n",
      "Please keep in mind that the order of your numbers matter.\n",
      "First Number: 10\n",
      "Second Number: 20\n",
      "10.0 - 20.0 = -10.0\n"
     ]
    }
   ],
   "source": [
    "# reversing numbers\n",
    "# alter the calculator project so that the order of the numbers doesn't matter.\n",
    "# there are a few ways to get the same result; one way is to ask the user if they'd like to reverse the placement of the numbers.\n",
    "# step 1: ask user for calculation to be performed\n",
    "operation = input(\"Would you like to add/subtract/multiply/divide?\").lower()\n",
    "print(\"You chose {}.\".format(operation))    \n",
    "# step 2: ask for numbers, alert order matters for substracting and dividing\n",
    "if operation == \"subtract\" or operation == \"divide\":\n",
    "    print(\"You chose {}.\".format(operation))\n",
    "    print(\"Please keep in mind that the order of your numbers matter.\")\n",
    "num1 = input(\"What is the first number?\")\n",
    "num2 = input(\"What is the second number?\")\n",
    "if operation in [\"subtract\", \"divide\"]:\n",
    "    reverse = input(\"Would you like to reverse the order of the numbers? (yes/no)\").lower()\n",
    "    if reverse == \"yes\":\n",
    "        num1, num2 = num2, num1 # swap the numbers\n",
    "print(\"First Number: {}\".format(num1))  \n",
    "print(\"Second Number: {}\".format(num2)) \n",
    "# step 3: setup try/except for mathematical operation\n",
    "try:\n",
    "    # step 3a: immediately to try to convert numbers input to floats\n",
    "    num1, num2 = float(num1), float(num2)\n",
    "    # step 3b: perform operation and print result\n",
    "    if operation == \"add\":\n",
    "        result = num1 + num2\n",
    "        print(\"{} + {} = {}\".format(num1, num2, result))\n",
    "    elif operation == \"subtract\":\n",
    "        result = num1 - num2\n",
    "        print(\"{} - {} = {}\".format(num1, num2, result))\n",
    "    elif operation == \"multiply\":\n",
    "        result = num1 * num2\n",
    "        print(\"{} * {} = {}\".format(num1, num2, result))\n",
    "    elif operation == \"divide\":\n",
    "        result = num1 / num2\n",
    "        print(\"{} / {} = {}\".format(num1, num2, result))\n",
    "    else:\n",
    "        # else will be hit if they didn't chose an option correctly\n",
    "        print (\"Sorry, but '{}' is not an option.\".format(operation))\n",
    "except:\n",
    "    # step 3c: print error\n",
    "    print(\"Error: Improper numbers used. Please try again.\")"
   ]
  },
  {
   "cell_type": "code",
   "execution_count": 43,
   "metadata": {},
   "outputs": [
    {
     "name": "stdout",
     "output_type": "stream",
     "text": [
      "Young Adult\n"
     ]
    }
   ],
   "source": [
    "# age group\n",
    "# ask the user to input their age.\n",
    "# depending on their input, output one of the following groups:\n",
    "# a. between 0 and 12 = \"Kid\"\n",
    "# b. between 13 and 19 = \"Teenager\"\n",
    "# c. between 20 and 30 = \"Young Adult\"\n",
    "# d. between 31 and 64 = \"Adult\"\n",
    "# e. 65 or above = \"Senior\"\n",
    "age = int(input(\"Enter your age: \"))\n",
    "if 0 <= age <= 12:\n",
    "    print(\"Kid\")\n",
    "elif 13 <= age <= 19:\n",
    "    print(\"Teenager\")\n",
    "elif 20 <= age <= 30:\n",
    "    print(\"Young Adult\")\n",
    "elif 31 <= age <= 64:\n",
    "    print(\"Adult\")\n",
    "elif age >= 65:\n",
    "    print(\"Senior\")\n",
    "else:\n",
    "    print(\"Invalid age. Please enter a non-negative number.\")"
   ]
  },
  {
   "cell_type": "code",
   "execution_count": null,
   "metadata": {},
   "outputs": [
    {
     "name": "stdout",
     "output_type": "stream",
     "text": [
      "Welcome to the Forest of Choices!\n",
      "Hello, xing. Your journey begins now...\n",
      "\n",
      "You find yourself at the edge of a mysterious forest.\n",
      "Do you want to ENTER the forest or WALK along the edge?\n",
      "\n",
      "You bravely step into the forest. The trees whisper secrets...\n",
      "Soon, you come across a fork in the path.\n",
      "Do you take the LEFT path toward the glowing mushrooms or the RIGHT path toward the sound of running water?\n",
      "\n",
      "You follow the sound and find a magical waterfall.\n",
      "A fairy appears and grants you a wish. You win!\n",
      "CONGRATULATIONS 🎉\n"
     ]
    }
   ],
   "source": [
    "# text-based rpg\n",
    "# this is an open-ended exercise.\n",
    "# create a text-based rpg with a story line.\n",
    "# you take user input and give them a couple choices, and depending on what they choose, they can go down a different path.\n",
    "# you'll use several branching statements depending on the length of the story.\n",
    "# text-based rpg\n",
    "print(\"Welcome to the Forest of Choices!\")\n",
    "name = input(\"What is your name, adventurer? \")\n",
    "print(\"Hello, {}. Your journey begins now...\".format(name))\n",
    "print(\"\\nYou find yourself at the edge of a mysterious forest.\")\n",
    "print(\"Do you want to ENTER the forest or WALK along the edge?\")\n",
    "choice1 = input(\"Type 'enter' or 'walk': \").lower()\n",
    "if choice1 == \"enter\":\n",
    "    print(\"\\nYou bravely step into the forest. The trees whisper secrets...\")\n",
    "    print(\"Soon, you come across a fork in the path.\")\n",
    "    print(\"Do you take the LEFT path toward the glowing mushrooms or the RIGHT path toward the sound of running water?\")\n",
    "    choice2 = input(\"Type 'left' or 'right': \").lower()\n",
    "    if choice2 == \"left\":\n",
    "        print(\"\\nYou walk towards the glowing mushrooms.\")\n",
    "        print(\"Suddenly, they release a puff of sparkly dust... and you fall asleep. Forever.\")\n",
    "        print(\"GAME OVER 💤\")\n",
    "    elif choice2 == \"right\":\n",
    "        print(\"\\nYou follow the sound and find a magical waterfall.\")\n",
    "        print(\"A fairy appears and grants you a wish. You win!\")\n",
    "        print(\"CONGRATULATIONS 🎉\")\n",
    "    else:\n",
    "        print(\"You hesitated too long and got lost in the forest.\")\n",
    "        print(\"GAME OVER 🌲\")\n",
    "elif choice1 == \"walk\":\n",
    "    print(\"\\nYou walk along the edge of the forest.\")\n",
    "    print(\"You find a small village where you're offered food and a place to rest.\")\n",
    "    print(\"Do you STAY the night or CONTINUE walking?\")\n",
    "    choice2 = input(\"Type 'stay' or 'continue': \").lower()\n",
    "    if choice2 == \"stay\":\n",
    "        print(\"\\nYou stay the night, and in the morning, you're offered a job as the village protector.\")\n",
    "        print(\"You accept and live happily ever after.\")\n",
    "        print(\"THE END 🏡\")\n",
    "    elif choice2 == \"continue\":\n",
    "        print(\"\\nAs you walk into the night, a storm hits and you get swept away by strong winds.\")\n",
    "        print(\"GAME OVER 🌪️\")\n",
    "    else:\n",
    "        print(\"Lost in thought, you wander off the path and disappear.\")\n",
    "        print(\"GAME OVER 🌀\")\n",
    "else:\n",
    "    print(\"You stand still for too long, and a squirrel steals your map.\")\n",
    "    print(\"GAME OVER 🐿️\")\n"
   ]
  }
 ],
 "metadata": {
  "kernelspec": {
   "display_name": "bootcamp",
   "language": "python",
   "name": "python3"
  },
  "language_info": {
   "codemirror_mode": {
    "name": "ipython",
    "version": 3
   },
   "file_extension": ".py",
   "mimetype": "text/x-python",
   "name": "python",
   "nbconvert_exporter": "python",
   "pygments_lexer": "ipython3",
   "version": "3.10.16"
  }
 },
 "nbformat": 4,
 "nbformat_minor": 2
}
