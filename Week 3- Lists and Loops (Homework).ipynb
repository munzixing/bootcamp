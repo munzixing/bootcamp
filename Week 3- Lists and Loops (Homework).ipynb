{
 "cells": [
  {
   "cell_type": "markdown",
   "id": "29a0930e",
   "metadata": {},
   "source": [
    "# Chapter 4.1 Lists"
   ]
  },
  {
   "cell_type": "code",
   "execution_count": 4,
   "id": "2f27118c",
   "metadata": {},
   "outputs": [
    {
     "name": "stdout",
     "output_type": "stream",
     "text": [
      "[5, 10, 15.2, 20]\n"
     ]
    }
   ],
   "source": [
    "# declaring a list of numbers\n",
    "nums = [5, 10, 15.2, 20]\n",
    "print(nums)"
   ]
  },
  {
   "cell_type": "code",
   "execution_count": 5,
   "id": "08f9a445",
   "metadata": {},
   "outputs": [
    {
     "name": "stdout",
     "output_type": "stream",
     "text": [
      "10\n",
      "15.2\n"
     ]
    }
   ],
   "source": [
    "# accessing elements within a list\n",
    "print(nums[1])  # will output the value at index 1 = 10\n",
    "num = nums[2]   # saves index value 2 into num\n",
    "print(num)      # prints value assigned to num"
   ]
  },
  {
   "cell_type": "code",
   "execution_count": 6,
   "id": "422580c4",
   "metadata": {},
   "outputs": [
    {
     "name": "stdout",
     "output_type": "stream",
     "text": [
      "[4.3, 'word', True]\n"
     ]
    }
   ],
   "source": [
    "# declaring a list of mixed data types\n",
    "num = 4.3\n",
    "data = [num, \"word\", True]  # the power of data collection\n",
    "print(data)"
   ]
  },
  {
   "cell_type": "code",
   "execution_count": 7,
   "id": "93ed2359",
   "metadata": {},
   "outputs": [
    {
     "name": "stdout",
     "output_type": "stream",
     "text": [
      "[5, 'book', [34, 'hello'], True]\n",
      "[34, 'hello']\n"
     ]
    }
   ],
   "source": [
    "# understanding lists within lists\n",
    "data = [5, \"book\", [34, \"hello\"], True] # lists can hold any type\n",
    "print(data)\n",
    "print(data[2])"
   ]
  },
  {
   "cell_type": "code",
   "execution_count": 8,
   "id": "32f4c048",
   "metadata": {},
   "outputs": [
    {
     "name": "stdout",
     "output_type": "stream",
     "text": [
      "34\n",
      "hello\n"
     ]
    }
   ],
   "source": [
    "# using double bracket notation to access lists within lists\n",
    "print(data[2][0])       # will output 34\n",
    "inner_list = data[2]    # inner list will equal [34, 'hello']\n",
    "print(inner_list[1])    # will output 'hello'"
   ]
  },
  {
   "cell_type": "code",
   "execution_count": 9,
   "id": "a7576010",
   "metadata": {},
   "outputs": [
    {
     "name": "stdout",
     "output_type": "stream",
     "text": [
      "[5, 10, 15, 20]\n",
      "[100, 10, 15, 20]\n"
     ]
    }
   ],
   "source": [
    "# changing values in a list through index\n",
    "data = [5, 10, 15, 20]\n",
    "print(data)\n",
    "data[0] = 100   # change the value at index 0 - (5 to 100)\n",
    "print(data)"
   ]
  },
  {
   "cell_type": "code",
   "execution_count": 10,
   "id": "e1456c84",
   "metadata": {},
   "outputs": [
    {
     "name": "stdout",
     "output_type": "stream",
     "text": [
      "a: [5, 10]\t b: [5, 10]\n",
      "Location a[0]: 2329448743280\t Location b[0]: 2329448743280\n",
      "a: [20, 10]\t b: [20, 10]\n"
     ]
    }
   ],
   "source": [
    "# understanding how lists are stored\n",
    "a = [5, 10]\n",
    "b = a\n",
    "print(\"a: {}\\t b: {}\".format(a, b))\n",
    "print(\"Location a[0]: {}\\t Location b[0]: {}\".format(id(a[0]), id(b[0])))\n",
    "a[0] = 20   # re-declaring the value of a[0] also changes b[0]\n",
    "print(\"a: {}\\t b: {}\".format(a, b))"
   ]
  },
  {
   "cell_type": "code",
   "execution_count": 11,
   "id": "e1ed966d",
   "metadata": {},
   "outputs": [
    {
     "name": "stdout",
     "output_type": "stream",
     "text": [
      "data: [50, 10, 15, 20]\t data_copy: [5, 10, 15, 20]\n"
     ]
    }
   ],
   "source": [
    "# using [:] to copy a list\n",
    "data = [5, 10, 15, 20]\n",
    "data_copy = data[:] # a single colon copies the list\n",
    "data[0] = 50\n",
    "print(\"data: {}\\t data_copy: {}\".format(data, data_copy))"
   ]
  },
  {
   "cell_type": "code",
   "execution_count": 14,
   "id": "89c8f896",
   "metadata": {},
   "outputs": [
    {
     "name": "stdout",
     "output_type": "stream",
     "text": [
      "I like to play soccer\n",
      "I like to play basketball\n",
      "I like to play tennis\n",
      "I like to play badminton\n",
      "J\n",
      "A\n",
      "S\n",
      "K\n"
     ]
    }
   ],
   "source": [
    "# monday exercises\n",
    "# sports\n",
    "# define a list of strings, where each string is a sport\n",
    "# then output each sport with following line \"I like to play {}\"\n",
    "# Define a list of sports\n",
    "# Define a list of sports\n",
    "sports = [\"soccer\", \"basketball\", \"tennis\", \"badminton\"]\n",
    "# Output each sport with \"I like to play {}\"\n",
    "for sport in sports:\n",
    "    print(\"I like to play {}\".format(sport))\n",
    "# first character\n",
    "# for the following list, print our each item's first letter\n",
    "# output should be 'J', 'A', 'S', 'K'\n",
    "names = ['John', 'Abraham', 'Sam', 'Kelly']\n",
    "for name in names:\n",
    "    print(name[0])"
   ]
  },
  {
   "cell_type": "markdown",
   "id": "4dc93f58",
   "metadata": {},
   "source": [
    "# Chapter 4.2 For Loops"
   ]
  },
  {
   "cell_type": "code",
   "execution_count": 15,
   "id": "abaa79cd",
   "metadata": {},
   "outputs": [
    {
     "name": "stdout",
     "output_type": "stream",
     "text": [
      "Value: 0\n",
      "Value: 1\n",
      "Value: 2\n",
      "Value: 3\n",
      "Value: 4\n"
     ]
    }
   ],
   "source": [
    "# writing your first for loop using range\n",
    "for num in range(5):\n",
    "    print(\"Value: {}\".format(num))"
   ]
  },
  {
   "cell_type": "code",
   "execution_count": 16,
   "id": "b89683b4",
   "metadata": {},
   "outputs": [
    {
     "name": "stdout",
     "output_type": "stream",
     "text": [
      "Value: 2\n",
      "Value: 4\n",
      "Value: 6\n",
      "Value: 8\n"
     ]
    }
   ],
   "source": [
    "# providing the start, stop, and step for the range function\n",
    "for num in range(2, 10, 2):\n",
    "    print(\"Value: {}\".format(num))  # will print all evens between 2 and 10"
   ]
  },
  {
   "cell_type": "code",
   "execution_count": 17,
   "id": "bdc2d274",
   "metadata": {},
   "outputs": [
    {
     "name": "stdout",
     "output_type": "stream",
     "text": [
      "Value: J\n",
      "Value: o\n",
      "Value: h\n",
      "Value: n\n",
      "Value:  \n",
      "Value: S\n",
      "Value: m\n",
      "Value: i\n",
      "Value: t\n",
      "Value: h\n"
     ]
    }
   ],
   "source": [
    "# printing all characters in a name using the 'in' keyword\n",
    "name = \"John Smith\"\n",
    "for letter in name:\n",
    "    print(\"Value: {}\".format(letter))"
   ]
  },
  {
   "cell_type": "code",
   "execution_count": 18,
   "id": "a955c669",
   "metadata": {},
   "outputs": [
    {
     "name": "stdout",
     "output_type": "stream",
     "text": [
      "0\n",
      "1\n",
      "2\n",
      "4\n"
     ]
    }
   ],
   "source": [
    "# using the continue statement within a foor loop\n",
    "for num in range(5):\n",
    "    if num == 3:\n",
    "        continue\n",
    "    print(num)"
   ]
  },
  {
   "cell_type": "code",
   "execution_count": 19,
   "id": "abb1f59b",
   "metadata": {},
   "outputs": [
    {
     "name": "stdout",
     "output_type": "stream",
     "text": [
      "0\n",
      "1\n",
      "2\n"
     ]
    }
   ],
   "source": [
    "# breaking our of a loop using the 'break' keyword\n",
    "for num in range(5):\n",
    "    if num == 3:\n",
    "        break\n",
    "    print(num)"
   ]
  },
  {
   "cell_type": "code",
   "execution_count": 20,
   "id": "1bf3c8e3",
   "metadata": {},
   "outputs": [],
   "source": [
    "# setting a placeholder using the 'pass' keyword\n",
    "for i in range(5):\n",
    "    # TODO: add code to print number\n",
    "    pass"
   ]
  },
  {
   "cell_type": "code",
   "execution_count": 1,
   "id": "abe70a1b",
   "metadata": {},
   "outputs": [
    {
     "name": "stdout",
     "output_type": "stream",
     "text": [
      "3\n",
      "6\n",
      "9\n",
      "12\n",
      "15\n",
      "18\n",
      "21\n",
      "24\n",
      "27\n",
      "30\n",
      "33\n",
      "36\n",
      "39\n",
      "42\n",
      "45\n",
      "48\n",
      "51\n",
      "54\n",
      "57\n",
      "60\n",
      "63\n",
      "66\n",
      "69\n",
      "72\n",
      "75\n",
      "78\n",
      "81\n",
      "84\n",
      "87\n",
      "90\n",
      "93\n",
      "96\n",
      "99\n",
      "eo"
     ]
    }
   ],
   "source": [
    "# tuesday exercises\n",
    "# divisible by three\n",
    "# write a for loop that prints out all numbers from 1 to 100 that are divisible by three\n",
    "for num in range(1, 101):\n",
    "    if num % 3 == 0:\n",
    "        print(num)\n",
    "# only vowels\n",
    "# ask for user input, and write a for loop that will output all the vowels within it\n",
    "# for example:\n",
    "# >>> \"Hello\" -> \"eo\"\n",
    "# ask for user input\n",
    "text = input(\"Enter a word or sentence: \")\n",
    "# define the vowels\n",
    "vowels = \"aeiouAEIOU\"\n",
    "# loop through each character and print if it's a vowel\n",
    "for letter in text:\n",
    "    if letter in vowels:\n",
    "        print(letter, end=\"\")"
   ]
  },
  {
   "cell_type": "markdown",
   "id": "ff46a658",
   "metadata": {},
   "source": [
    "# Chapter 4.3 While Loops"
   ]
  },
  {
   "cell_type": "code",
   "execution_count": 2,
   "id": "c3067c69",
   "metadata": {},
   "outputs": [
    {
     "name": "stdout",
     "output_type": "stream",
     "text": [
      "10\n",
      "9\n",
      "8\n",
      "7\n",
      "6\n",
      "5\n",
      "4\n",
      "3\n",
      "2\n",
      "1\n"
     ]
    }
   ],
   "source": [
    "# writing your first while loop\n",
    "health = 10\n",
    "while health > 0:\n",
    "    print(health)\n",
    "    health -= 1 # forgetting this line will result in infinite loop"
   ]
  },
  {
   "cell_type": "code",
   "execution_count": null,
   "id": "2481c00b",
   "metadata": {},
   "outputs": [
    {
     "name": "stdout",
     "output_type": "stream",
     "text": [
      "0 0\n",
      "0 1\n",
      "0 2\n",
      "1 0\n",
      "1 1\n",
      "1 2\n"
     ]
    }
   ],
   "source": [
    "# using two or more loops together is called a nested loop\n",
    "for i in range(2):      # outside loop\n",
    "    for j in range(3):  # inside loop\n",
    "        print(i, j)"
   ]
  },
  {
   "cell_type": "code",
   "execution_count": 4,
   "id": "2d3262ed",
   "metadata": {},
   "outputs": [
    {
     "name": "stdout",
     "output_type": "stream",
     "text": [
      "0\n",
      "1\n",
      "2\n"
     ]
    }
   ],
   "source": [
    "# wednesday exercises\n",
    "# user input\n",
    "# write a while loop that continues to ask for user input and runs until they type \"quit\".\n",
    "# ask for user input until they type \"quit\"\n",
    "user_input = \"\"\n",
    "while user_input.lower() != \"quit\":\n",
    "    user_input = input(\"Enter something (or type 'quit' to stop): \")\n",
    "# double loop\n",
    "# write a loop within a while loop that will count from 0 to 5, but when it reaches 3, it sets a game_over variable to True and breaks out of the loop\n",
    "# the while loop should continue to loop until game_over is True\n",
    "# the output only be 0, 1, 2\n",
    "game_over = False\n",
    "while not game_over:\n",
    "    for i in range(6):\n",
    "        if i == 3:\n",
    "            game_over = True\n",
    "            break\n",
    "        print(i)"
   ]
  },
  {
   "cell_type": "markdown",
   "id": "ab3fcb15",
   "metadata": {},
   "source": [
    "# Chapter 4.4 Working with Lists"
   ]
  },
  {
   "cell_type": "code",
   "execution_count": 6,
   "id": "d22d57cd",
   "metadata": {},
   "outputs": [
    {
     "name": "stdout",
     "output_type": "stream",
     "text": [
      "3\n"
     ]
    }
   ],
   "source": [
    "# checking the number of items within a list\n",
    "nums = [5, 10, 15]\n",
    "length = len(nums)  # len() returns an integer\n",
    "print(length)"
   ]
  },
  {
   "cell_type": "code",
   "execution_count": 7,
   "id": "7b3fa5e1",
   "metadata": {},
   "outputs": [
    {
     "name": "stdout",
     "output_type": "stream",
     "text": [
      "[10, 15]\n",
      "[5, 10]\n",
      "[5, 15]\n",
      "[10, 15]\n"
     ]
    }
   ],
   "source": [
    "# accessing specific items of a list with slices\n",
    "print(nums[1:3])    # will output items in index 1 and 2\n",
    "print(nums[:2])     # will output items in index 0 and 1\n",
    "print(nums[::2])    # will print every other index - 0, 2, 4, etc.\n",
    "print(nums[-2:])    # will output the last two items in list"
   ]
  },
  {
   "cell_type": "code",
   "execution_count": 8,
   "id": "22bfbb0f",
   "metadata": {},
   "outputs": [
    {
     "name": "stdout",
     "output_type": "stream",
     "text": [
      "[10, 20, 5]\n"
     ]
    }
   ],
   "source": [
    "# adding an item to the back of a list using append\n",
    "nums = [10, 20]\n",
    "nums.append(5)\n",
    "print(nums) # outputs [10, 20, 5]"
   ]
  },
  {
   "cell_type": "code",
   "execution_count": 12,
   "id": "663e5342",
   "metadata": {},
   "outputs": [
    {
     "name": "stdout",
     "output_type": "stream",
     "text": [
      "['glove', 'ball', 'base']\n"
     ]
    }
   ],
   "source": [
    "# adding a value to the beginning of the list\n",
    "words = [\"ball\", \"base\"]\n",
    "words.insert(0, \"glove\") # first number is the index, second is the value\n",
    "print(words)"
   ]
  },
  {
   "cell_type": "code",
   "execution_count": 13,
   "id": "9c3af00e",
   "metadata": {},
   "outputs": [
    {
     "name": "stdout",
     "output_type": "stream",
     "text": [
      "5 \n",
      " ['ball']\n"
     ]
    }
   ],
   "source": [
    "# using pop to remove items and saving to a variable to use later\n",
    "items = [5, \"ball\", True]\n",
    "items.pop()                 # by default removes the last item\n",
    "removed_item = items.pop(0) # removes 5 and saves it into the variable\n",
    "print(removed_item, \"\\n\", items)"
   ]
  },
  {
   "cell_type": "code",
   "execution_count": 14,
   "id": "077269f1",
   "metadata": {},
   "outputs": [
    {
     "name": "stdout",
     "output_type": "stream",
     "text": [
      "['baseball', 'football', 'hockey']\n"
     ]
    }
   ],
   "source": [
    "# using the remove method with a try and except\n",
    "sports = [\"baseball\", \"soccer\", \"football\", \"hockey\"]\n",
    "try:\n",
    "    sports.remove(\"soccer\")\n",
    "except:\n",
    "    print(\"That item does not exist in the list\")\n",
    "print(sports)"
   ]
  },
  {
   "cell_type": "code",
   "execution_count": 15,
   "id": "eb4bc466",
   "metadata": {},
   "outputs": [
    {
     "name": "stdout",
     "output_type": "stream",
     "text": [
      "3\n",
      "9\n",
      "17\n"
     ]
    }
   ],
   "source": [
    "# using min, max, and sum\n",
    "nums = [5, 3, 9]\n",
    "print(min(nums))    # will find the lowest number in the list\n",
    "print(max(nums))    # will find the highest number in the list\n",
    "print(sum(nums))    # will add all numbers in the list and return the sum"
   ]
  },
  {
   "cell_type": "code",
   "execution_count": 16,
   "id": "fa791245",
   "metadata": {},
   "outputs": [
    {
     "name": "stdout",
     "output_type": "stream",
     "text": [
      "[5, 8, 0, 2] [0, 2, 5, 8]\n"
     ]
    }
   ],
   "source": [
    "# using sorted on lists for numerical and alphabetical data\n",
    "nums = [5, 8, 0, 2]\n",
    "sorted_nums = sorted(nums)  # save to a new variable to use later\n",
    "print(nums, sorted_nums)    # the original list is in tact"
   ]
  },
  {
   "cell_type": "code",
   "execution_count": 17,
   "id": "d7b3a6a5",
   "metadata": {},
   "outputs": [
    {
     "name": "stdout",
     "output_type": "stream",
     "text": [
      "[0, 3, 5, 8]\n"
     ]
    }
   ],
   "source": [
    "# sorting a list with .sort() in-place\n",
    "nums = [5, 0, 8, 3]\n",
    "nums.sort() # alters the original variable directly\n",
    "print(nums)"
   ]
  },
  {
   "cell_type": "code",
   "execution_count": 20,
   "id": "155ca52b",
   "metadata": {},
   "outputs": [
    {
     "name": "stdout",
     "output_type": "stream",
     "text": [
      "found\n",
      "not found\n"
     ]
    }
   ],
   "source": [
    "# using conditional statements on a list\n",
    "names = [\"Jack\", \"Robert\", \"Mary\"]\n",
    "if \"Mary\" in names:\n",
    "    print(\"found\")      # will run since Mary is in the list\n",
    "if \"Jimmy\" not in names:\n",
    "    print(\"not found\")  # will run since Jimmy not in the list"
   ]
  },
  {
   "cell_type": "code",
   "execution_count": 18,
   "id": "4c0b447e",
   "metadata": {},
   "outputs": [
    {
     "name": "stdout",
     "output_type": "stream",
     "text": [
      "empty\n"
     ]
    }
   ],
   "source": [
    "# using conditionals to see if a list is empty\n",
    "nums = []\n",
    "if not nums:    # could also sat 'if nums == []'\n",
    "    print(\"empty\")"
   ]
  },
  {
   "cell_type": "code",
   "execution_count": 19,
   "id": "47558a62",
   "metadata": {},
   "outputs": [
    {
     "name": "stdout",
     "output_type": "stream",
     "text": [
      "Baseball\n",
      "Hockey\n",
      "Football\n",
      "Basketball\n"
     ]
    }
   ],
   "source": [
    "# using a for loop to print all items in a list\n",
    "sports = [\"Baseball\", \"Hockey\", \"Football\", \"Basketball\"]\n",
    "for sport in sports:\n",
    "    print(sport)"
   ]
  },
  {
   "cell_type": "code",
   "execution_count": 21,
   "id": "240962b4",
   "metadata": {},
   "outputs": [
    {
     "name": "stdout",
     "output_type": "stream",
     "text": [
      "['Jack', 'Rob', 'Robert']\n"
     ]
    }
   ],
   "source": [
    "# using the while loop to remove a certain value\n",
    "names = [\"Bob\", \"Jack\", \"Rob\", \"Bob\", \"Robert\"]\n",
    "while \"Bob\" in names:\n",
    "    names.remove(\"Bob\") # removes all instances of 'Bob'\n",
    "print(names)"
   ]
  },
  {
   "cell_type": "code",
   "execution_count": 22,
   "id": "3decbc8f",
   "metadata": {},
   "outputs": [
    {
     "name": "stdout",
     "output_type": "stream",
     "text": [
      "['Bob', 'Kenny', 'Amanda']\n",
      "\n",
      "You entered:\n",
      "test\n"
     ]
    }
   ],
   "source": [
    "# thursday exercises\n",
    "# remove duplicates\n",
    "# remove all duplicates from the list below\n",
    "# hint: use the .count() method\n",
    "# the output should be ['Bob', 'Kenny', 'Amanda']\n",
    "# >>> names = ['Bob', 'Kenny', 'Amanda', 'Bob', 'Kenny']\n",
    "names = ['Bob', 'Kenny', 'Amanda', 'Bob', 'Kenny']\n",
    "unique_names = []\n",
    "for name in names:\n",
    "    if name not in unique_names:\n",
    "        unique_names.append(name)\n",
    "print(unique_names)\n",
    "# user input\n",
    "# use a while loop to continually ask the user to input a word, until they type \"quit\"\n",
    "# once they type a word in, add it to a list\n",
    "# once they quite the loop, use a for loop to output all items within the list\n",
    "# initialize an empty list\n",
    "words = []\n",
    "# collect user input until they type \"quit\"\n",
    "while True:\n",
    "    word = input(\"Enter a word (or type 'quit' to finish): \")\n",
    "    if word.lower() == \"quit\":\n",
    "        break\n",
    "    words.append(word)\n",
    "# output all items in the list\n",
    "print(\"\\nYou entered:\")\n",
    "for word in words:\n",
    "    print(word)"
   ]
  },
  {
   "cell_type": "markdown",
   "id": "e803ce66",
   "metadata": {},
   "source": [
    "# Chapter 4.5 Creating Hangman"
   ]
  },
  {
   "cell_type": "code",
   "execution_count": 47,
   "id": "304b6027",
   "metadata": {},
   "outputs": [
    {
     "name": "stdout",
     "output_type": "stream",
     "text": [
      "You guessed correctly!\n",
      "Congratulations, you guessed it correctly!\n"
     ]
    }
   ],
   "source": [
    "# import additional functions\n",
    "from random import choice\n",
    "from IPython.display import clear_output\n",
    "\n",
    "# declare game variables\n",
    "words = [\"tree\", \"basket\", \"chair\", \"paper\", \"python\"]\n",
    "word = choice(words)                        # randomly chooses a word from words list\n",
    "guessed, lives, game_over = [], 7, False    # multi variable assignment\n",
    "\n",
    "# create a list of underscores to the length of the word\n",
    "guesses = [\"_ \"] * len(word)\n",
    "\n",
    "# create main game loop\n",
    "while not game_over:\n",
    "    # output game information\n",
    "    hidden_word = \"\".join(guesses)\n",
    "    print(\"Your guessed letters: {}\".format(guessed))\n",
    "    print(\"Word to guess: {}\".format(hidden_word))\n",
    "    print(\"Lives: {}\".format(lives))\n",
    "    \n",
    "    # get user input\n",
    "    ans = input(\"Type quit or guess a letter: \").lower()\n",
    "    clear_output()              # clear all previous output\n",
    "    \n",
    "    # quit condition\n",
    "    if ans == \"quit\":\n",
    "        print(\"Thanks for playing.\")\n",
    "        game_over = True\n",
    "        \n",
    "    # correct guess and not previously guessed\n",
    "    elif ans in word and ans not in guessed:\n",
    "        print(\"You guessed correctly!\")\n",
    "\n",
    "        # create a loop to change underscore to proper letter\n",
    "        for i in range(len(word)):\n",
    "            if word[i] == ans:  # compares values at indexes\n",
    "                guesses[i] = ans\n",
    "\n",
    "    # already guess\n",
    "    elif ans in guessed:\n",
    "        print(\"You already guessed that. Try again.\")\n",
    "\n",
    "    # incorrect guess\n",
    "    else:                       # otherwise lose life\n",
    "        lives -= 1\n",
    "        print(\"Incorrect, you lost a life.\")\n",
    "        if ans not in guessed:\n",
    "            guessed.append(ans) # add ans to guessed list\n",
    "\n",
    "     # lose condition\n",
    "    if lives <= 0:\n",
    "        print(\"You lost all your lives, you lost!\")\n",
    "        game_over = True\n",
    "        \n",
    "    # win condition\n",
    "    elif word == \"\".join(guesses):\n",
    "        print(\"Congratulations, you guessed it correctly!\")\n",
    "        game_over = True"
   ]
  },
  {
   "cell_type": "markdown",
   "id": "6ae42a3d",
   "metadata": {},
   "source": [
    "# Weekly Challenges"
   ]
  },
  {
   "cell_type": "code",
   "execution_count": 32,
   "id": "52f81755",
   "metadata": {},
   "outputs": [
    {
     "name": "stdout",
     "output_type": "stream",
     "text": [
      "   x\n",
      "  x x\n",
      " x x x\n",
      "x x x x\n"
     ]
    }
   ],
   "source": [
    "# pyramids\n",
    "# use a for loop to build a pyramid of x's\n",
    "# it should be modular so that if you loop to 5 or 50, it still creates evenly spaced rows\n",
    "# hint: multiply the string \"x\" by the row\n",
    "# for example, if you loop to the range of 4, it should produce the following result:\n",
    "# >>>   x\n",
    "# >>>  x x\n",
    "# >>> x x x\n",
    "rows = 4    # change this to 5, 10, etc. and it will still work\n",
    "for i in range(1, rows + 1):\n",
    "    spaces = \" \" * (rows - i)\n",
    "    x_row = \"x \" * i\n",
    "    print(spaces + x_row.strip())\n"
   ]
  },
  {
   "cell_type": "code",
   "execution_count": 33,
   "id": "2da54fbd",
   "metadata": {},
   "outputs": [
    {
     "name": "stdout",
     "output_type": "stream",
     "text": [
      "John\n",
      "Amanda\n"
     ]
    }
   ],
   "source": [
    "# output names\n",
    "# write a loop that will iterate over a list of items and only output items which have letter inside of a string\n",
    "# take the following list, for example, only \"John\" and \"Amanda\" should be output:\n",
    "# >>> names = ['John', ' ', 'Amanda', 5]\n",
    "names = ['John', ' ', 'Amanda', 5]\n",
    "for item in names:\n",
    "    if isinstance(item, str) and any(char.isalpha() for char in item):\n",
    "        print(item)\n"
   ]
  },
  {
   "cell_type": "code",
   "execution_count": 34,
   "id": "87f226d8",
   "metadata": {},
   "outputs": [
    {
     "name": "stdout",
     "output_type": "stream",
     "text": [
      "[89.6, 53.6, 111.2, 84.2]\n"
     ]
    }
   ],
   "source": [
    "# convert celsius\n",
    "# given a list of temperatures that are in celsius, write a loop that iterates over the list and outputs the temperature converted into fahrenheit\n",
    "# hint: the conversion is \"F=(9/5)*C+32\":\n",
    "# >>> temps = [32, 12, 44, 29]\n",
    "# output would be [89.6, 53.6, 111.2, 84.2]\n",
    "temps = [32, 12, 44, 29]\n",
    "fahrenheit = []\n",
    "for c in temps:\n",
    "    f = (9/5) * c + 32\n",
    "    fahrenheit.append(f)\n",
    "print(fahrenheit)\n"
   ]
  }
 ],
 "metadata": {
  "kernelspec": {
   "display_name": "bootcamp",
   "language": "python",
   "name": "python3"
  },
  "language_info": {
   "codemirror_mode": {
    "name": "ipython",
    "version": 3
   },
   "file_extension": ".py",
   "mimetype": "text/x-python",
   "name": "python",
   "nbconvert_exporter": "python",
   "pygments_lexer": "ipython3",
   "version": "3.10.16"
  }
 },
 "nbformat": 4,
 "nbformat_minor": 5
}
